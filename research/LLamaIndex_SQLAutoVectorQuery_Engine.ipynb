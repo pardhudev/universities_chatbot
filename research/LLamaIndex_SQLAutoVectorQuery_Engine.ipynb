{
 "cells": [
  {
   "cell_type": "code",
   "execution_count": 1,
   "metadata": {},
   "outputs": [],
   "source": [
    "import openai\n",
    "from dotenv import load_dotenv\n",
    "load_dotenv()\n",
    "\n",
    "# Access environment variables\n",
    "import os\n",
    "openai_key = os.getenv(\"API_KEY\")\n",
    "db_url = os.getenv(\"DB_URL\")"
   ]
  },
  {
   "cell_type": "code",
   "execution_count": 72,
   "metadata": {},
   "outputs": [],
   "source": [
    "import nest_asyncio\n",
    "\n",
    "nest_asyncio.apply()\n",
    "\n",
    "import logging\n",
    "import sys\n",
    "\n",
    "logging.basicConfig(stream=sys.stdout, level=logging.INFO)\n",
    "logging.getLogger().addHandler(logging.StreamHandler(stream=sys.stdout))"
   ]
  },
  {
   "cell_type": "code",
   "execution_count": 73,
   "metadata": {},
   "outputs": [],
   "source": [
    "from IPython.display import Markdown, display"
   ]
  },
  {
   "cell_type": "code",
   "execution_count": 74,
   "metadata": {},
   "outputs": [],
   "source": [
    "from sqlalchemy import (\n",
    "    create_engine,\n",
    "    MetaData,\n",
    "    select,\n",
    ")"
   ]
  },
  {
   "cell_type": "code",
   "execution_count": 75,
   "metadata": {},
   "outputs": [],
   "source": [
    "#Creating Db connection\n",
    "from sqlalchemy import create_engine, MetaData\n",
    "from sqlalchemy.orm import sessionmaker\n",
    "# Database connection URL\n",
    "\n",
    "# Creating a SQLAlchemy engine\n",
    "engine = create_engine(db_url)\n",
    "\n",
    "# Creating a session\n",
    "Session = sessionmaker(bind=engine)\n",
    "session = Session()\n",
    "\n",
    "# Connecting and creating a cursor\n",
    "connection = engine.connect()\n",
    "cursor = connection.connection.cursor()\n",
    "\n",
    "#Creating metadata object\n",
    "metadata_obj = MetaData()\n",
    "\n",
    "metadata_obj.create_all(engine)"
   ]
  },
  {
   "cell_type": "code",
   "execution_count": 76,
   "metadata": {},
   "outputs": [],
   "source": [
    "from llama_index import SQLDatabase, ServiceContext\n",
    "from llama_index.llms import OpenAI\n",
    "\n",
    "llm = OpenAI(temperature=0.1, model=\"gpt-3.5-turbo\")\n",
    "service_context = ServiceContext.from_defaults(llm=llm)"
   ]
  },
  {
   "cell_type": "code",
   "execution_count": 77,
   "metadata": {},
   "outputs": [],
   "source": [
    "sql_database = SQLDatabase(engine, include_tables=[\"IC2022_CAMPUSES\"])"
   ]
  },
  {
   "cell_type": "code",
   "execution_count": 78,
   "metadata": {},
   "outputs": [
    {
     "name": "stdout",
     "output_type": "stream",
     "text": [
      "Results:\n",
      "('Troy University-Phenix City Campus', 'Phenix City', 'AL')\n"
     ]
    }
   ],
   "source": [
    "# SQL Query\n",
    "query = '''\n",
    "        Select IC.campusid, IC.pcaddr, IC.pccity\n",
    "        from public.\"ADM2022\" as ADM\n",
    "        inner join public.\"IC2022_CAMPUSES\" as IC\n",
    "        on ADM.unitid = IC.index\n",
    "        where ADM.admcon8 = 1\n",
    "        limit 1;    \n",
    "'''\n",
    "\n",
    "# Executing the query\n",
    "cursor.execute(query)\n",
    "\n",
    "# Commiting the changes\n",
    "connection.commit()\n",
    "\n",
    "# Fetching the data\n",
    "result = cursor.fetchall()\n",
    "\n",
    "# Display the results\n",
    "print(\"Results:\")\n",
    "for row in result:\n",
    "    print(row)\n"
   ]
  },
  {
   "cell_type": "code",
   "execution_count": 79,
   "metadata": {},
   "outputs": [
    {
     "name": "stdout",
     "output_type": "stream",
     "text": [
      "INFO:llama_index.indices.struct_store.sql_retriever:> Table desc str: Table 'IC2022_CAMPUSES' has columns: index (BIGINT), unitid (BIGINT), campusid (TEXT), pcinstnm (TEXT), pcaddr (TEXT), pccity (TEXT), pcstabbr (TEXT), pczip (BIGINT), pcfips (BIGINT), pcobereg (TEXT), pcchfnm (TEXT), pcchftitle (BIGINT), pcgentele (TEXT), pcein (TEXT), pcueis (BIGINT), pcopeid (BIGINT), pcopeflag (BIGINT), oldunitid (TEXT), pcwebaddr (TEXT), pcadminurl (TEXT), pcfaidurl (TEXT), pcapplurl (TEXT), pcnpricurl (TEXT), pcveturl (TEXT), pcathurl (TEXT), pcdisaurl (BIGINT), pcsector (BIGINT), pciclevel (BIGINT), pccontrol (BIGINT), pchloffer (BIGINT), pcugoffer (BIGINT), pcgroffer (BIGINT), pchdegofr1 (BIGINT), pcdeggrant (BIGINT), pchbcu (BIGINT), pctribal (BIGINT), pclocale (BIGINT), pcopenpubl (TEXT), pcact (BIGINT), pccyactive (BIGINT), pcpostsec (BIGINT), pcpseflag (BIGINT), pcpset4flg (BIGINT), pccbsa (BIGINT), pccbsatype (BIGINT), pccsa (BIGINT), pccountycd (TEXT), pccountynm (BIGINT), pccngdstcd (DOUBLE PRECISION), pclongitud (DOUBLE PRECISION), pclatitude (BIGINT), pclevel1 (BIGINT), pclevel1a (BIGINT), pclevel1b (BIGINT), pclevel2 (BIGINT), pclevel3 (BIGINT), pclevel4 (BIGINT), pclevel5 (BIGINT), pclevel6 (BIGINT), pclevel7 (BIGINT), pclevel8 (BIGINT), pclevel17 (BIGINT), pclevel18 (BIGINT), pclevel19 (BIGINT), pcft_ftug (BIGINT), pcalloncam (TEXT), xpcapplfee (DOUBLE PRECISION), pcapplfeeu (BIGINT), pcroom (TEXT), xpcchg1at0 (TEXT), pcchg1at0 (TEXT), xpcchg1af0 (TEXT), pcchg1af0 (TEXT), xpcchg1ay0 (TEXT), pcchg1ay0 (TEXT), xpcchg1at1 (TEXT), pcchg1at1 (TEXT), xpcchg1af1 (TEXT), pcchg1af1 (TEXT), xpcchg1ay1 (TEXT), pcchg1ay1 (TEXT), xpcchg1at2 (TEXT), pcchg1at2 (TEXT), xpcchg1af2 (TEXT), pcchg1af2 (TEXT), xpcchg1ay2 (TEXT), pcchg1ay2 (TEXT), xpcchg1at3 (TEXT), pcchg1at3 (TEXT), xpcchg1af3 (TEXT), pcchg1af3 (TEXT), xpcchg1ay3 (TEXT), pcchg1ay3 (TEXT), pcchg1tgtd (TEXT), pcchg1fgtd (TEXT), xpcchg2at0 (TEXT), pcchg2at0 (TEXT), xpcchg2af0 (TEXT), pcchg2af0 (TEXT), xpcchg2ay0 (TEXT), pcchg2ay0 (TEXT), xpcchg2at1 (TEXT), pcchg2at1 (TEXT), xpcchg2af1 (TEXT), pcchg2af1 (TEXT), xpcchg2ay1 (TEXT), pcchg2ay1 (TEXT), xpcchg2at2 (TEXT), pcchg2at2 (TEXT), xpcchg2af2 (TEXT), pcchg2af2 (TEXT), xpcchg2ay2 (TEXT), pcchg2ay2 (TEXT), xpcchg2at3 (TEXT), pcchg2at3 (TEXT), xpcchg2af3 (TEXT), pcchg2af3 (TEXT), xpcchg2ay3 (TEXT), pcchg2ay3 (TEXT), pcchg2tgtd (TEXT), pcchg2fgtd (TEXT), xpcchg3at0 (TEXT), pcchg3at0 (TEXT), xpcchg3af0 (TEXT), pcchg3af0 (TEXT), xpcchg3ay0 (TEXT), pcchg3ay0 (TEXT), xpcchg3at1 (TEXT), pcchg3at1 (TEXT), xpcchg3af1 (TEXT), pcchg3af1 (TEXT), xpcchg3ay1 (TEXT), pcchg3ay1 (TEXT), xpcchg3at2 (TEXT), pcchg3at2 (TEXT), xpcchg3af2 (TEXT), pcchg3af2 (TEXT), xpcchg3ay2 (TEXT), pcchg3ay2 (TEXT), xpcchg3at3 (TEXT), pcchg3at3 (TEXT), xpcchg3af3 (TEXT), pcchg3af3 (TEXT), xpcchg3ay3 (TEXT), pcchg3ay3 (TEXT), pcchg3tgtd (TEXT), pcchg3fgtd (TEXT), xpcchg4ay0 (TEXT), pcchg4ay0 (TEXT), xpcchg4ay1 (TEXT), pcchg4ay1 (TEXT), xpcchg4ay2 (TEXT), pcchg4ay2 (TEXT), xpcchg4ay3 (TEXT), pcchg4ay3 (TEXT), xpcchg5ay0 (TEXT), pcchg5ay0 (TEXT), xpcchg5ay1 (TEXT), pcchg5ay1 (TEXT), xpcchg5ay2 (TEXT), pcchg5ay2 (TEXT), xpcchg5ay3 (TEXT), pcchg5ay3 (TEXT), xpcchg6ay0 (TEXT), pcchg6ay0 (TEXT), xpcchg6ay1 (TEXT), pcchg6ay1 (TEXT), xpcchg6ay2 (TEXT), pcchg6ay2 (TEXT), xpcchg6ay3 (TEXT), pcchg6ay3 (TEXT), xpcchg7ay0 (TEXT), pcchg7ay0 (TEXT), xpcchg7ay1 (TEXT), pcchg7ay1 (TEXT), xpcchg7ay2 (TEXT), pcchg7ay2 (TEXT), xpcchg7ay3 (TEXT), pcchg7ay3 (TEXT), xpcchg8ay0 (TEXT), pcchg8ay0 (TEXT), xpcchg8ay1 (TEXT), pcchg8ay1 (TEXT), xpcchg8ay2 (TEXT), pcchg8ay2 (TEXT), xpcchg8ay3 (TEXT), pcchg8ay3 (TEXT), xpcchg9ay0 (TEXT), pcchg9ay0 (TEXT), xpcchg9ay1 (TEXT), pcchg9ay1 (TEXT), xpcchg9ay2 (TEXT), pcchg9ay2 (TEXT), xpcchg9ay3 (TEXT), pcchg9ay3 (DOUBLE PRECISION), pccipcode1 (TEXT), xpcciplgt1 (TEXT), pcciplgth1 (BIGINT), pcprgmsr1 (TEXT), xpcmthcmp1 (TEXT), pcmthcmp1 (TEXT), xpcwkcmp1 (TEXT), pcwkcmp1 (TEXT), xpclnayhr1 (TEXT), pclnayhr1 (TEXT), xpclnaywk1 (TEXT), pclnaywk1 (TEXT), xpcchg1py0 (TEXT), pcchg1py0 (TEXT), xpcchg1py1 (TEXT), pcchg1py1 (TEXT), xpcchg1py2 (TEXT), pcchg1py2 (TEXT), xpcchg1py3 (TEXT), pcchg1py3 (TEXT), xpcchg4py0 (TEXT), pcchg4py0 (TEXT), xpcchg4py1 (TEXT), pcchg4py1 (TEXT), xpcchg4py2 (TEXT), pcchg4py2 (TEXT), xpcchg4py3 (TEXT), pcchg4py3 (TEXT), xpcchg5py0 (TEXT), pcchg5py0 (TEXT), xpcchg5py1 (TEXT), pcchg5py1 (TEXT), xpcchg5py2 (TEXT), pcchg5py2 (TEXT), xpcchg5py3 (TEXT), pcchg5py3 (TEXT), xpcchg6py0 (TEXT), pcchg6py0 (TEXT), xpcchg6py1 (TEXT), pcchg6py1 (TEXT), xpcchg6py2 (TEXT), pcchg6py2 (TEXT), xpcchg6py3 (TEXT), pcchg6py3 (TEXT), xpcchg7py0 (TEXT), pcchg7py0 (TEXT), xpcchg7py1 (TEXT), pcchg7py1 (TEXT), xpcchg7py2 (TEXT), pcchg7py2 (TEXT), xpcchg7py3 (TEXT), pcchg7py3 (TEXT), xpcchg8py0 (TEXT), pcchg8py0 (TEXT), xpcchg8py1 (TEXT), pcchg8py1 (TEXT), xpcchg8py2 (TEXT), pcchg8py2 (TEXT), xpcchg8py3 (TEXT), pcchg8py3 (TEXT), xpcchg9py0 (TEXT), pcchg9py0 (TEXT), xpcchg9py1 (TEXT), pcchg9py1 (TEXT), xpcchg9py2 (TEXT), pcchg9py2 (TEXT), xpcchg9py3 (TEXT), pcchg9py3  (DOUBLE PRECISION), and foreign keys: .\n",
      "> Table desc str: Table 'IC2022_CAMPUSES' has columns: index (BIGINT), unitid (BIGINT), campusid (TEXT), pcinstnm (TEXT), pcaddr (TEXT), pccity (TEXT), pcstabbr (TEXT), pczip (BIGINT), pcfips (BIGINT), pcobereg (TEXT), pcchfnm (TEXT), pcchftitle (BIGINT), pcgentele (TEXT), pcein (TEXT), pcueis (BIGINT), pcopeid (BIGINT), pcopeflag (BIGINT), oldunitid (TEXT), pcwebaddr (TEXT), pcadminurl (TEXT), pcfaidurl (TEXT), pcapplurl (TEXT), pcnpricurl (TEXT), pcveturl (TEXT), pcathurl (TEXT), pcdisaurl (BIGINT), pcsector (BIGINT), pciclevel (BIGINT), pccontrol (BIGINT), pchloffer (BIGINT), pcugoffer (BIGINT), pcgroffer (BIGINT), pchdegofr1 (BIGINT), pcdeggrant (BIGINT), pchbcu (BIGINT), pctribal (BIGINT), pclocale (BIGINT), pcopenpubl (TEXT), pcact (BIGINT), pccyactive (BIGINT), pcpostsec (BIGINT), pcpseflag (BIGINT), pcpset4flg (BIGINT), pccbsa (BIGINT), pccbsatype (BIGINT), pccsa (BIGINT), pccountycd (TEXT), pccountynm (BIGINT), pccngdstcd (DOUBLE PRECISION), pclongitud (DOUBLE PRECISION), pclatitude (BIGINT), pclevel1 (BIGINT), pclevel1a (BIGINT), pclevel1b (BIGINT), pclevel2 (BIGINT), pclevel3 (BIGINT), pclevel4 (BIGINT), pclevel5 (BIGINT), pclevel6 (BIGINT), pclevel7 (BIGINT), pclevel8 (BIGINT), pclevel17 (BIGINT), pclevel18 (BIGINT), pclevel19 (BIGINT), pcft_ftug (BIGINT), pcalloncam (TEXT), xpcapplfee (DOUBLE PRECISION), pcapplfeeu (BIGINT), pcroom (TEXT), xpcchg1at0 (TEXT), pcchg1at0 (TEXT), xpcchg1af0 (TEXT), pcchg1af0 (TEXT), xpcchg1ay0 (TEXT), pcchg1ay0 (TEXT), xpcchg1at1 (TEXT), pcchg1at1 (TEXT), xpcchg1af1 (TEXT), pcchg1af1 (TEXT), xpcchg1ay1 (TEXT), pcchg1ay1 (TEXT), xpcchg1at2 (TEXT), pcchg1at2 (TEXT), xpcchg1af2 (TEXT), pcchg1af2 (TEXT), xpcchg1ay2 (TEXT), pcchg1ay2 (TEXT), xpcchg1at3 (TEXT), pcchg1at3 (TEXT), xpcchg1af3 (TEXT), pcchg1af3 (TEXT), xpcchg1ay3 (TEXT), pcchg1ay3 (TEXT), pcchg1tgtd (TEXT), pcchg1fgtd (TEXT), xpcchg2at0 (TEXT), pcchg2at0 (TEXT), xpcchg2af0 (TEXT), pcchg2af0 (TEXT), xpcchg2ay0 (TEXT), pcchg2ay0 (TEXT), xpcchg2at1 (TEXT), pcchg2at1 (TEXT), xpcchg2af1 (TEXT), pcchg2af1 (TEXT), xpcchg2ay1 (TEXT), pcchg2ay1 (TEXT), xpcchg2at2 (TEXT), pcchg2at2 (TEXT), xpcchg2af2 (TEXT), pcchg2af2 (TEXT), xpcchg2ay2 (TEXT), pcchg2ay2 (TEXT), xpcchg2at3 (TEXT), pcchg2at3 (TEXT), xpcchg2af3 (TEXT), pcchg2af3 (TEXT), xpcchg2ay3 (TEXT), pcchg2ay3 (TEXT), pcchg2tgtd (TEXT), pcchg2fgtd (TEXT), xpcchg3at0 (TEXT), pcchg3at0 (TEXT), xpcchg3af0 (TEXT), pcchg3af0 (TEXT), xpcchg3ay0 (TEXT), pcchg3ay0 (TEXT), xpcchg3at1 (TEXT), pcchg3at1 (TEXT), xpcchg3af1 (TEXT), pcchg3af1 (TEXT), xpcchg3ay1 (TEXT), pcchg3ay1 (TEXT), xpcchg3at2 (TEXT), pcchg3at2 (TEXT), xpcchg3af2 (TEXT), pcchg3af2 (TEXT), xpcchg3ay2 (TEXT), pcchg3ay2 (TEXT), xpcchg3at3 (TEXT), pcchg3at3 (TEXT), xpcchg3af3 (TEXT), pcchg3af3 (TEXT), xpcchg3ay3 (TEXT), pcchg3ay3 (TEXT), pcchg3tgtd (TEXT), pcchg3fgtd (TEXT), xpcchg4ay0 (TEXT), pcchg4ay0 (TEXT), xpcchg4ay1 (TEXT), pcchg4ay1 (TEXT), xpcchg4ay2 (TEXT), pcchg4ay2 (TEXT), xpcchg4ay3 (TEXT), pcchg4ay3 (TEXT), xpcchg5ay0 (TEXT), pcchg5ay0 (TEXT), xpcchg5ay1 (TEXT), pcchg5ay1 (TEXT), xpcchg5ay2 (TEXT), pcchg5ay2 (TEXT), xpcchg5ay3 (TEXT), pcchg5ay3 (TEXT), xpcchg6ay0 (TEXT), pcchg6ay0 (TEXT), xpcchg6ay1 (TEXT), pcchg6ay1 (TEXT), xpcchg6ay2 (TEXT), pcchg6ay2 (TEXT), xpcchg6ay3 (TEXT), pcchg6ay3 (TEXT), xpcchg7ay0 (TEXT), pcchg7ay0 (TEXT), xpcchg7ay1 (TEXT), pcchg7ay1 (TEXT), xpcchg7ay2 (TEXT), pcchg7ay2 (TEXT), xpcchg7ay3 (TEXT), pcchg7ay3 (TEXT), xpcchg8ay0 (TEXT), pcchg8ay0 (TEXT), xpcchg8ay1 (TEXT), pcchg8ay1 (TEXT), xpcchg8ay2 (TEXT), pcchg8ay2 (TEXT), xpcchg8ay3 (TEXT), pcchg8ay3 (TEXT), xpcchg9ay0 (TEXT), pcchg9ay0 (TEXT), xpcchg9ay1 (TEXT), pcchg9ay1 (TEXT), xpcchg9ay2 (TEXT), pcchg9ay2 (TEXT), xpcchg9ay3 (TEXT), pcchg9ay3 (DOUBLE PRECISION), pccipcode1 (TEXT), xpcciplgt1 (TEXT), pcciplgth1 (BIGINT), pcprgmsr1 (TEXT), xpcmthcmp1 (TEXT), pcmthcmp1 (TEXT), xpcwkcmp1 (TEXT), pcwkcmp1 (TEXT), xpclnayhr1 (TEXT), pclnayhr1 (TEXT), xpclnaywk1 (TEXT), pclnaywk1 (TEXT), xpcchg1py0 (TEXT), pcchg1py0 (TEXT), xpcchg1py1 (TEXT), pcchg1py1 (TEXT), xpcchg1py2 (TEXT), pcchg1py2 (TEXT), xpcchg1py3 (TEXT), pcchg1py3 (TEXT), xpcchg4py0 (TEXT), pcchg4py0 (TEXT), xpcchg4py1 (TEXT), pcchg4py1 (TEXT), xpcchg4py2 (TEXT), pcchg4py2 (TEXT), xpcchg4py3 (TEXT), pcchg4py3 (TEXT), xpcchg5py0 (TEXT), pcchg5py0 (TEXT), xpcchg5py1 (TEXT), pcchg5py1 (TEXT), xpcchg5py2 (TEXT), pcchg5py2 (TEXT), xpcchg5py3 (TEXT), pcchg5py3 (TEXT), xpcchg6py0 (TEXT), pcchg6py0 (TEXT), xpcchg6py1 (TEXT), pcchg6py1 (TEXT), xpcchg6py2 (TEXT), pcchg6py2 (TEXT), xpcchg6py3 (TEXT), pcchg6py3 (TEXT), xpcchg7py0 (TEXT), pcchg7py0 (TEXT), xpcchg7py1 (TEXT), pcchg7py1 (TEXT), xpcchg7py2 (TEXT), pcchg7py2 (TEXT), xpcchg7py3 (TEXT), pcchg7py3 (TEXT), xpcchg8py0 (TEXT), pcchg8py0 (TEXT), xpcchg8py1 (TEXT), pcchg8py1 (TEXT), xpcchg8py2 (TEXT), pcchg8py2 (TEXT), xpcchg8py3 (TEXT), pcchg8py3 (TEXT), xpcchg9py0 (TEXT), pcchg9py0 (TEXT), xpcchg9py1 (TEXT), pcchg9py1 (TEXT), xpcchg9py2 (TEXT), pcchg9py2 (TEXT), xpcchg9py3 (TEXT), pcchg9py3  (DOUBLE PRECISION), and foreign keys: .\n",
      "> Table desc str: Table 'IC2022_CAMPUSES' has columns: index (BIGINT), unitid (BIGINT), campusid (TEXT), pcinstnm (TEXT), pcaddr (TEXT), pccity (TEXT), pcstabbr (TEXT), pczip (BIGINT), pcfips (BIGINT), pcobereg (TEXT), pcchfnm (TEXT), pcchftitle (BIGINT), pcgentele (TEXT), pcein (TEXT), pcueis (BIGINT), pcopeid (BIGINT), pcopeflag (BIGINT), oldunitid (TEXT), pcwebaddr (TEXT), pcadminurl (TEXT), pcfaidurl (TEXT), pcapplurl (TEXT), pcnpricurl (TEXT), pcveturl (TEXT), pcathurl (TEXT), pcdisaurl (BIGINT), pcsector (BIGINT), pciclevel (BIGINT), pccontrol (BIGINT), pchloffer (BIGINT), pcugoffer (BIGINT), pcgroffer (BIGINT), pchdegofr1 (BIGINT), pcdeggrant (BIGINT), pchbcu (BIGINT), pctribal (BIGINT), pclocale (BIGINT), pcopenpubl (TEXT), pcact (BIGINT), pccyactive (BIGINT), pcpostsec (BIGINT), pcpseflag (BIGINT), pcpset4flg (BIGINT), pccbsa (BIGINT), pccbsatype (BIGINT), pccsa (BIGINT), pccountycd (TEXT), pccountynm (BIGINT), pccngdstcd (DOUBLE PRECISION), pclongitud (DOUBLE PRECISION), pclatitude (BIGINT), pclevel1 (BIGINT), pclevel1a (BIGINT), pclevel1b (BIGINT), pclevel2 (BIGINT), pclevel3 (BIGINT), pclevel4 (BIGINT), pclevel5 (BIGINT), pclevel6 (BIGINT), pclevel7 (BIGINT), pclevel8 (BIGINT), pclevel17 (BIGINT), pclevel18 (BIGINT), pclevel19 (BIGINT), pcft_ftug (BIGINT), pcalloncam (TEXT), xpcapplfee (DOUBLE PRECISION), pcapplfeeu (BIGINT), pcroom (TEXT), xpcchg1at0 (TEXT), pcchg1at0 (TEXT), xpcchg1af0 (TEXT), pcchg1af0 (TEXT), xpcchg1ay0 (TEXT), pcchg1ay0 (TEXT), xpcchg1at1 (TEXT), pcchg1at1 (TEXT), xpcchg1af1 (TEXT), pcchg1af1 (TEXT), xpcchg1ay1 (TEXT), pcchg1ay1 (TEXT), xpcchg1at2 (TEXT), pcchg1at2 (TEXT), xpcchg1af2 (TEXT), pcchg1af2 (TEXT), xpcchg1ay2 (TEXT), pcchg1ay2 (TEXT), xpcchg1at3 (TEXT), pcchg1at3 (TEXT), xpcchg1af3 (TEXT), pcchg1af3 (TEXT), xpcchg1ay3 (TEXT), pcchg1ay3 (TEXT), pcchg1tgtd (TEXT), pcchg1fgtd (TEXT), xpcchg2at0 (TEXT), pcchg2at0 (TEXT), xpcchg2af0 (TEXT), pcchg2af0 (TEXT), xpcchg2ay0 (TEXT), pcchg2ay0 (TEXT), xpcchg2at1 (TEXT), pcchg2at1 (TEXT), xpcchg2af1 (TEXT), pcchg2af1 (TEXT), xpcchg2ay1 (TEXT), pcchg2ay1 (TEXT), xpcchg2at2 (TEXT), pcchg2at2 (TEXT), xpcchg2af2 (TEXT), pcchg2af2 (TEXT), xpcchg2ay2 (TEXT), pcchg2ay2 (TEXT), xpcchg2at3 (TEXT), pcchg2at3 (TEXT), xpcchg2af3 (TEXT), pcchg2af3 (TEXT), xpcchg2ay3 (TEXT), pcchg2ay3 (TEXT), pcchg2tgtd (TEXT), pcchg2fgtd (TEXT), xpcchg3at0 (TEXT), pcchg3at0 (TEXT), xpcchg3af0 (TEXT), pcchg3af0 (TEXT), xpcchg3ay0 (TEXT), pcchg3ay0 (TEXT), xpcchg3at1 (TEXT), pcchg3at1 (TEXT), xpcchg3af1 (TEXT), pcchg3af1 (TEXT), xpcchg3ay1 (TEXT), pcchg3ay1 (TEXT), xpcchg3at2 (TEXT), pcchg3at2 (TEXT), xpcchg3af2 (TEXT), pcchg3af2 (TEXT), xpcchg3ay2 (TEXT), pcchg3ay2 (TEXT), xpcchg3at3 (TEXT), pcchg3at3 (TEXT), xpcchg3af3 (TEXT), pcchg3af3 (TEXT), xpcchg3ay3 (TEXT), pcchg3ay3 (TEXT), pcchg3tgtd (TEXT), pcchg3fgtd (TEXT), xpcchg4ay0 (TEXT), pcchg4ay0 (TEXT), xpcchg4ay1 (TEXT), pcchg4ay1 (TEXT), xpcchg4ay2 (TEXT), pcchg4ay2 (TEXT), xpcchg4ay3 (TEXT), pcchg4ay3 (TEXT), xpcchg5ay0 (TEXT), pcchg5ay0 (TEXT), xpcchg5ay1 (TEXT), pcchg5ay1 (TEXT), xpcchg5ay2 (TEXT), pcchg5ay2 (TEXT), xpcchg5ay3 (TEXT), pcchg5ay3 (TEXT), xpcchg6ay0 (TEXT), pcchg6ay0 (TEXT), xpcchg6ay1 (TEXT), pcchg6ay1 (TEXT), xpcchg6ay2 (TEXT), pcchg6ay2 (TEXT), xpcchg6ay3 (TEXT), pcchg6ay3 (TEXT), xpcchg7ay0 (TEXT), pcchg7ay0 (TEXT), xpcchg7ay1 (TEXT), pcchg7ay1 (TEXT), xpcchg7ay2 (TEXT), pcchg7ay2 (TEXT), xpcchg7ay3 (TEXT), pcchg7ay3 (TEXT), xpcchg8ay0 (TEXT), pcchg8ay0 (TEXT), xpcchg8ay1 (TEXT), pcchg8ay1 (TEXT), xpcchg8ay2 (TEXT), pcchg8ay2 (TEXT), xpcchg8ay3 (TEXT), pcchg8ay3 (TEXT), xpcchg9ay0 (TEXT), pcchg9ay0 (TEXT), xpcchg9ay1 (TEXT), pcchg9ay1 (TEXT), xpcchg9ay2 (TEXT), pcchg9ay2 (TEXT), xpcchg9ay3 (TEXT), pcchg9ay3 (DOUBLE PRECISION), pccipcode1 (TEXT), xpcciplgt1 (TEXT), pcciplgth1 (BIGINT), pcprgmsr1 (TEXT), xpcmthcmp1 (TEXT), pcmthcmp1 (TEXT), xpcwkcmp1 (TEXT), pcwkcmp1 (TEXT), xpclnayhr1 (TEXT), pclnayhr1 (TEXT), xpclnaywk1 (TEXT), pclnaywk1 (TEXT), xpcchg1py0 (TEXT), pcchg1py0 (TEXT), xpcchg1py1 (TEXT), pcchg1py1 (TEXT), xpcchg1py2 (TEXT), pcchg1py2 (TEXT), xpcchg1py3 (TEXT), pcchg1py3 (TEXT), xpcchg4py0 (TEXT), pcchg4py0 (TEXT), xpcchg4py1 (TEXT), pcchg4py1 (TEXT), xpcchg4py2 (TEXT), pcchg4py2 (TEXT), xpcchg4py3 (TEXT), pcchg4py3 (TEXT), xpcchg5py0 (TEXT), pcchg5py0 (TEXT), xpcchg5py1 (TEXT), pcchg5py1 (TEXT), xpcchg5py2 (TEXT), pcchg5py2 (TEXT), xpcchg5py3 (TEXT), pcchg5py3 (TEXT), xpcchg6py0 (TEXT), pcchg6py0 (TEXT), xpcchg6py1 (TEXT), pcchg6py1 (TEXT), xpcchg6py2 (TEXT), pcchg6py2 (TEXT), xpcchg6py3 (TEXT), pcchg6py3 (TEXT), xpcchg7py0 (TEXT), pcchg7py0 (TEXT), xpcchg7py1 (TEXT), pcchg7py1 (TEXT), xpcchg7py2 (TEXT), pcchg7py2 (TEXT), xpcchg7py3 (TEXT), pcchg7py3 (TEXT), xpcchg8py0 (TEXT), pcchg8py0 (TEXT), xpcchg8py1 (TEXT), pcchg8py1 (TEXT), xpcchg8py2 (TEXT), pcchg8py2 (TEXT), xpcchg8py3 (TEXT), pcchg8py3 (TEXT), xpcchg9py0 (TEXT), pcchg9py0 (TEXT), xpcchg9py1 (TEXT), pcchg9py1 (TEXT), xpcchg9py2 (TEXT), pcchg9py2 (TEXT), xpcchg9py3 (TEXT), pcchg9py3  (DOUBLE PRECISION), and foreign keys: .\n",
      "> Table desc str: Table 'IC2022_CAMPUSES' has columns: index (BIGINT), unitid (BIGINT), campusid (TEXT), pcinstnm (TEXT), pcaddr (TEXT), pccity (TEXT), pcstabbr (TEXT), pczip (BIGINT), pcfips (BIGINT), pcobereg (TEXT), pcchfnm (TEXT), pcchftitle (BIGINT), pcgentele (TEXT), pcein (TEXT), pcueis (BIGINT), pcopeid (BIGINT), pcopeflag (BIGINT), oldunitid (TEXT), pcwebaddr (TEXT), pcadminurl (TEXT), pcfaidurl (TEXT), pcapplurl (TEXT), pcnpricurl (TEXT), pcveturl (TEXT), pcathurl (TEXT), pcdisaurl (BIGINT), pcsector (BIGINT), pciclevel (BIGINT), pccontrol (BIGINT), pchloffer (BIGINT), pcugoffer (BIGINT), pcgroffer (BIGINT), pchdegofr1 (BIGINT), pcdeggrant (BIGINT), pchbcu (BIGINT), pctribal (BIGINT), pclocale (BIGINT), pcopenpubl (TEXT), pcact (BIGINT), pccyactive (BIGINT), pcpostsec (BIGINT), pcpseflag (BIGINT), pcpset4flg (BIGINT), pccbsa (BIGINT), pccbsatype (BIGINT), pccsa (BIGINT), pccountycd (TEXT), pccountynm (BIGINT), pccngdstcd (DOUBLE PRECISION), pclongitud (DOUBLE PRECISION), pclatitude (BIGINT), pclevel1 (BIGINT), pclevel1a (BIGINT), pclevel1b (BIGINT), pclevel2 (BIGINT), pclevel3 (BIGINT), pclevel4 (BIGINT), pclevel5 (BIGINT), pclevel6 (BIGINT), pclevel7 (BIGINT), pclevel8 (BIGINT), pclevel17 (BIGINT), pclevel18 (BIGINT), pclevel19 (BIGINT), pcft_ftug (BIGINT), pcalloncam (TEXT), xpcapplfee (DOUBLE PRECISION), pcapplfeeu (BIGINT), pcroom (TEXT), xpcchg1at0 (TEXT), pcchg1at0 (TEXT), xpcchg1af0 (TEXT), pcchg1af0 (TEXT), xpcchg1ay0 (TEXT), pcchg1ay0 (TEXT), xpcchg1at1 (TEXT), pcchg1at1 (TEXT), xpcchg1af1 (TEXT), pcchg1af1 (TEXT), xpcchg1ay1 (TEXT), pcchg1ay1 (TEXT), xpcchg1at2 (TEXT), pcchg1at2 (TEXT), xpcchg1af2 (TEXT), pcchg1af2 (TEXT), xpcchg1ay2 (TEXT), pcchg1ay2 (TEXT), xpcchg1at3 (TEXT), pcchg1at3 (TEXT), xpcchg1af3 (TEXT), pcchg1af3 (TEXT), xpcchg1ay3 (TEXT), pcchg1ay3 (TEXT), pcchg1tgtd (TEXT), pcchg1fgtd (TEXT), xpcchg2at0 (TEXT), pcchg2at0 (TEXT), xpcchg2af0 (TEXT), pcchg2af0 (TEXT), xpcchg2ay0 (TEXT), pcchg2ay0 (TEXT), xpcchg2at1 (TEXT), pcchg2at1 (TEXT), xpcchg2af1 (TEXT), pcchg2af1 (TEXT), xpcchg2ay1 (TEXT), pcchg2ay1 (TEXT), xpcchg2at2 (TEXT), pcchg2at2 (TEXT), xpcchg2af2 (TEXT), pcchg2af2 (TEXT), xpcchg2ay2 (TEXT), pcchg2ay2 (TEXT), xpcchg2at3 (TEXT), pcchg2at3 (TEXT), xpcchg2af3 (TEXT), pcchg2af3 (TEXT), xpcchg2ay3 (TEXT), pcchg2ay3 (TEXT), pcchg2tgtd (TEXT), pcchg2fgtd (TEXT), xpcchg3at0 (TEXT), pcchg3at0 (TEXT), xpcchg3af0 (TEXT), pcchg3af0 (TEXT), xpcchg3ay0 (TEXT), pcchg3ay0 (TEXT), xpcchg3at1 (TEXT), pcchg3at1 (TEXT), xpcchg3af1 (TEXT), pcchg3af1 (TEXT), xpcchg3ay1 (TEXT), pcchg3ay1 (TEXT), xpcchg3at2 (TEXT), pcchg3at2 (TEXT), xpcchg3af2 (TEXT), pcchg3af2 (TEXT), xpcchg3ay2 (TEXT), pcchg3ay2 (TEXT), xpcchg3at3 (TEXT), pcchg3at3 (TEXT), xpcchg3af3 (TEXT), pcchg3af3 (TEXT), xpcchg3ay3 (TEXT), pcchg3ay3 (TEXT), pcchg3tgtd (TEXT), pcchg3fgtd (TEXT), xpcchg4ay0 (TEXT), pcchg4ay0 (TEXT), xpcchg4ay1 (TEXT), pcchg4ay1 (TEXT), xpcchg4ay2 (TEXT), pcchg4ay2 (TEXT), xpcchg4ay3 (TEXT), pcchg4ay3 (TEXT), xpcchg5ay0 (TEXT), pcchg5ay0 (TEXT), xpcchg5ay1 (TEXT), pcchg5ay1 (TEXT), xpcchg5ay2 (TEXT), pcchg5ay2 (TEXT), xpcchg5ay3 (TEXT), pcchg5ay3 (TEXT), xpcchg6ay0 (TEXT), pcchg6ay0 (TEXT), xpcchg6ay1 (TEXT), pcchg6ay1 (TEXT), xpcchg6ay2 (TEXT), pcchg6ay2 (TEXT), xpcchg6ay3 (TEXT), pcchg6ay3 (TEXT), xpcchg7ay0 (TEXT), pcchg7ay0 (TEXT), xpcchg7ay1 (TEXT), pcchg7ay1 (TEXT), xpcchg7ay2 (TEXT), pcchg7ay2 (TEXT), xpcchg7ay3 (TEXT), pcchg7ay3 (TEXT), xpcchg8ay0 (TEXT), pcchg8ay0 (TEXT), xpcchg8ay1 (TEXT), pcchg8ay1 (TEXT), xpcchg8ay2 (TEXT), pcchg8ay2 (TEXT), xpcchg8ay3 (TEXT), pcchg8ay3 (TEXT), xpcchg9ay0 (TEXT), pcchg9ay0 (TEXT), xpcchg9ay1 (TEXT), pcchg9ay1 (TEXT), xpcchg9ay2 (TEXT), pcchg9ay2 (TEXT), xpcchg9ay3 (TEXT), pcchg9ay3 (DOUBLE PRECISION), pccipcode1 (TEXT), xpcciplgt1 (TEXT), pcciplgth1 (BIGINT), pcprgmsr1 (TEXT), xpcmthcmp1 (TEXT), pcmthcmp1 (TEXT), xpcwkcmp1 (TEXT), pcwkcmp1 (TEXT), xpclnayhr1 (TEXT), pclnayhr1 (TEXT), xpclnaywk1 (TEXT), pclnaywk1 (TEXT), xpcchg1py0 (TEXT), pcchg1py0 (TEXT), xpcchg1py1 (TEXT), pcchg1py1 (TEXT), xpcchg1py2 (TEXT), pcchg1py2 (TEXT), xpcchg1py3 (TEXT), pcchg1py3 (TEXT), xpcchg4py0 (TEXT), pcchg4py0 (TEXT), xpcchg4py1 (TEXT), pcchg4py1 (TEXT), xpcchg4py2 (TEXT), pcchg4py2 (TEXT), xpcchg4py3 (TEXT), pcchg4py3 (TEXT), xpcchg5py0 (TEXT), pcchg5py0 (TEXT), xpcchg5py1 (TEXT), pcchg5py1 (TEXT), xpcchg5py2 (TEXT), pcchg5py2 (TEXT), xpcchg5py3 (TEXT), pcchg5py3 (TEXT), xpcchg6py0 (TEXT), pcchg6py0 (TEXT), xpcchg6py1 (TEXT), pcchg6py1 (TEXT), xpcchg6py2 (TEXT), pcchg6py2 (TEXT), xpcchg6py3 (TEXT), pcchg6py3 (TEXT), xpcchg7py0 (TEXT), pcchg7py0 (TEXT), xpcchg7py1 (TEXT), pcchg7py1 (TEXT), xpcchg7py2 (TEXT), pcchg7py2 (TEXT), xpcchg7py3 (TEXT), pcchg7py3 (TEXT), xpcchg8py0 (TEXT), pcchg8py0 (TEXT), xpcchg8py1 (TEXT), pcchg8py1 (TEXT), xpcchg8py2 (TEXT), pcchg8py2 (TEXT), xpcchg8py3 (TEXT), pcchg8py3 (TEXT), xpcchg9py0 (TEXT), pcchg9py0 (TEXT), xpcchg9py1 (TEXT), pcchg9py1 (TEXT), xpcchg9py2 (TEXT), pcchg9py2 (TEXT), xpcchg9py3 (TEXT), pcchg9py3  (DOUBLE PRECISION), and foreign keys: .\n",
      "> Table desc str: Table 'IC2022_CAMPUSES' has columns: index (BIGINT), unitid (BIGINT), campusid (TEXT), pcinstnm (TEXT), pcaddr (TEXT), pccity (TEXT), pcstabbr (TEXT), pczip (BIGINT), pcfips (BIGINT), pcobereg (TEXT), pcchfnm (TEXT), pcchftitle (BIGINT), pcgentele (TEXT), pcein (TEXT), pcueis (BIGINT), pcopeid (BIGINT), pcopeflag (BIGINT), oldunitid (TEXT), pcwebaddr (TEXT), pcadminurl (TEXT), pcfaidurl (TEXT), pcapplurl (TEXT), pcnpricurl (TEXT), pcveturl (TEXT), pcathurl (TEXT), pcdisaurl (BIGINT), pcsector (BIGINT), pciclevel (BIGINT), pccontrol (BIGINT), pchloffer (BIGINT), pcugoffer (BIGINT), pcgroffer (BIGINT), pchdegofr1 (BIGINT), pcdeggrant (BIGINT), pchbcu (BIGINT), pctribal (BIGINT), pclocale (BIGINT), pcopenpubl (TEXT), pcact (BIGINT), pccyactive (BIGINT), pcpostsec (BIGINT), pcpseflag (BIGINT), pcpset4flg (BIGINT), pccbsa (BIGINT), pccbsatype (BIGINT), pccsa (BIGINT), pccountycd (TEXT), pccountynm (BIGINT), pccngdstcd (DOUBLE PRECISION), pclongitud (DOUBLE PRECISION), pclatitude (BIGINT), pclevel1 (BIGINT), pclevel1a (BIGINT), pclevel1b (BIGINT), pclevel2 (BIGINT), pclevel3 (BIGINT), pclevel4 (BIGINT), pclevel5 (BIGINT), pclevel6 (BIGINT), pclevel7 (BIGINT), pclevel8 (BIGINT), pclevel17 (BIGINT), pclevel18 (BIGINT), pclevel19 (BIGINT), pcft_ftug (BIGINT), pcalloncam (TEXT), xpcapplfee (DOUBLE PRECISION), pcapplfeeu (BIGINT), pcroom (TEXT), xpcchg1at0 (TEXT), pcchg1at0 (TEXT), xpcchg1af0 (TEXT), pcchg1af0 (TEXT), xpcchg1ay0 (TEXT), pcchg1ay0 (TEXT), xpcchg1at1 (TEXT), pcchg1at1 (TEXT), xpcchg1af1 (TEXT), pcchg1af1 (TEXT), xpcchg1ay1 (TEXT), pcchg1ay1 (TEXT), xpcchg1at2 (TEXT), pcchg1at2 (TEXT), xpcchg1af2 (TEXT), pcchg1af2 (TEXT), xpcchg1ay2 (TEXT), pcchg1ay2 (TEXT), xpcchg1at3 (TEXT), pcchg1at3 (TEXT), xpcchg1af3 (TEXT), pcchg1af3 (TEXT), xpcchg1ay3 (TEXT), pcchg1ay3 (TEXT), pcchg1tgtd (TEXT), pcchg1fgtd (TEXT), xpcchg2at0 (TEXT), pcchg2at0 (TEXT), xpcchg2af0 (TEXT), pcchg2af0 (TEXT), xpcchg2ay0 (TEXT), pcchg2ay0 (TEXT), xpcchg2at1 (TEXT), pcchg2at1 (TEXT), xpcchg2af1 (TEXT), pcchg2af1 (TEXT), xpcchg2ay1 (TEXT), pcchg2ay1 (TEXT), xpcchg2at2 (TEXT), pcchg2at2 (TEXT), xpcchg2af2 (TEXT), pcchg2af2 (TEXT), xpcchg2ay2 (TEXT), pcchg2ay2 (TEXT), xpcchg2at3 (TEXT), pcchg2at3 (TEXT), xpcchg2af3 (TEXT), pcchg2af3 (TEXT), xpcchg2ay3 (TEXT), pcchg2ay3 (TEXT), pcchg2tgtd (TEXT), pcchg2fgtd (TEXT), xpcchg3at0 (TEXT), pcchg3at0 (TEXT), xpcchg3af0 (TEXT), pcchg3af0 (TEXT), xpcchg3ay0 (TEXT), pcchg3ay0 (TEXT), xpcchg3at1 (TEXT), pcchg3at1 (TEXT), xpcchg3af1 (TEXT), pcchg3af1 (TEXT), xpcchg3ay1 (TEXT), pcchg3ay1 (TEXT), xpcchg3at2 (TEXT), pcchg3at2 (TEXT), xpcchg3af2 (TEXT), pcchg3af2 (TEXT), xpcchg3ay2 (TEXT), pcchg3ay2 (TEXT), xpcchg3at3 (TEXT), pcchg3at3 (TEXT), xpcchg3af3 (TEXT), pcchg3af3 (TEXT), xpcchg3ay3 (TEXT), pcchg3ay3 (TEXT), pcchg3tgtd (TEXT), pcchg3fgtd (TEXT), xpcchg4ay0 (TEXT), pcchg4ay0 (TEXT), xpcchg4ay1 (TEXT), pcchg4ay1 (TEXT), xpcchg4ay2 (TEXT), pcchg4ay2 (TEXT), xpcchg4ay3 (TEXT), pcchg4ay3 (TEXT), xpcchg5ay0 (TEXT), pcchg5ay0 (TEXT), xpcchg5ay1 (TEXT), pcchg5ay1 (TEXT), xpcchg5ay2 (TEXT), pcchg5ay2 (TEXT), xpcchg5ay3 (TEXT), pcchg5ay3 (TEXT), xpcchg6ay0 (TEXT), pcchg6ay0 (TEXT), xpcchg6ay1 (TEXT), pcchg6ay1 (TEXT), xpcchg6ay2 (TEXT), pcchg6ay2 (TEXT), xpcchg6ay3 (TEXT), pcchg6ay3 (TEXT), xpcchg7ay0 (TEXT), pcchg7ay0 (TEXT), xpcchg7ay1 (TEXT), pcchg7ay1 (TEXT), xpcchg7ay2 (TEXT), pcchg7ay2 (TEXT), xpcchg7ay3 (TEXT), pcchg7ay3 (TEXT), xpcchg8ay0 (TEXT), pcchg8ay0 (TEXT), xpcchg8ay1 (TEXT), pcchg8ay1 (TEXT), xpcchg8ay2 (TEXT), pcchg8ay2 (TEXT), xpcchg8ay3 (TEXT), pcchg8ay3 (TEXT), xpcchg9ay0 (TEXT), pcchg9ay0 (TEXT), xpcchg9ay1 (TEXT), pcchg9ay1 (TEXT), xpcchg9ay2 (TEXT), pcchg9ay2 (TEXT), xpcchg9ay3 (TEXT), pcchg9ay3 (DOUBLE PRECISION), pccipcode1 (TEXT), xpcciplgt1 (TEXT), pcciplgth1 (BIGINT), pcprgmsr1 (TEXT), xpcmthcmp1 (TEXT), pcmthcmp1 (TEXT), xpcwkcmp1 (TEXT), pcwkcmp1 (TEXT), xpclnayhr1 (TEXT), pclnayhr1 (TEXT), xpclnaywk1 (TEXT), pclnaywk1 (TEXT), xpcchg1py0 (TEXT), pcchg1py0 (TEXT), xpcchg1py1 (TEXT), pcchg1py1 (TEXT), xpcchg1py2 (TEXT), pcchg1py2 (TEXT), xpcchg1py3 (TEXT), pcchg1py3 (TEXT), xpcchg4py0 (TEXT), pcchg4py0 (TEXT), xpcchg4py1 (TEXT), pcchg4py1 (TEXT), xpcchg4py2 (TEXT), pcchg4py2 (TEXT), xpcchg4py3 (TEXT), pcchg4py3 (TEXT), xpcchg5py0 (TEXT), pcchg5py0 (TEXT), xpcchg5py1 (TEXT), pcchg5py1 (TEXT), xpcchg5py2 (TEXT), pcchg5py2 (TEXT), xpcchg5py3 (TEXT), pcchg5py3 (TEXT), xpcchg6py0 (TEXT), pcchg6py0 (TEXT), xpcchg6py1 (TEXT), pcchg6py1 (TEXT), xpcchg6py2 (TEXT), pcchg6py2 (TEXT), xpcchg6py3 (TEXT), pcchg6py3 (TEXT), xpcchg7py0 (TEXT), pcchg7py0 (TEXT), xpcchg7py1 (TEXT), pcchg7py1 (TEXT), xpcchg7py2 (TEXT), pcchg7py2 (TEXT), xpcchg7py3 (TEXT), pcchg7py3 (TEXT), xpcchg8py0 (TEXT), pcchg8py0 (TEXT), xpcchg8py1 (TEXT), pcchg8py1 (TEXT), xpcchg8py2 (TEXT), pcchg8py2 (TEXT), xpcchg8py3 (TEXT), pcchg8py3 (TEXT), xpcchg9py0 (TEXT), pcchg9py0 (TEXT), xpcchg9py1 (TEXT), pcchg9py1 (TEXT), xpcchg9py2 (TEXT), pcchg9py2 (TEXT), xpcchg9py3 (TEXT), pcchg9py3  (DOUBLE PRECISION), and foreign keys: .\n",
      "> Table desc str: Table 'IC2022_CAMPUSES' has columns: index (BIGINT), unitid (BIGINT), campusid (TEXT), pcinstnm (TEXT), pcaddr (TEXT), pccity (TEXT), pcstabbr (TEXT), pczip (BIGINT), pcfips (BIGINT), pcobereg (TEXT), pcchfnm (TEXT), pcchftitle (BIGINT), pcgentele (TEXT), pcein (TEXT), pcueis (BIGINT), pcopeid (BIGINT), pcopeflag (BIGINT), oldunitid (TEXT), pcwebaddr (TEXT), pcadminurl (TEXT), pcfaidurl (TEXT), pcapplurl (TEXT), pcnpricurl (TEXT), pcveturl (TEXT), pcathurl (TEXT), pcdisaurl (BIGINT), pcsector (BIGINT), pciclevel (BIGINT), pccontrol (BIGINT), pchloffer (BIGINT), pcugoffer (BIGINT), pcgroffer (BIGINT), pchdegofr1 (BIGINT), pcdeggrant (BIGINT), pchbcu (BIGINT), pctribal (BIGINT), pclocale (BIGINT), pcopenpubl (TEXT), pcact (BIGINT), pccyactive (BIGINT), pcpostsec (BIGINT), pcpseflag (BIGINT), pcpset4flg (BIGINT), pccbsa (BIGINT), pccbsatype (BIGINT), pccsa (BIGINT), pccountycd (TEXT), pccountynm (BIGINT), pccngdstcd (DOUBLE PRECISION), pclongitud (DOUBLE PRECISION), pclatitude (BIGINT), pclevel1 (BIGINT), pclevel1a (BIGINT), pclevel1b (BIGINT), pclevel2 (BIGINT), pclevel3 (BIGINT), pclevel4 (BIGINT), pclevel5 (BIGINT), pclevel6 (BIGINT), pclevel7 (BIGINT), pclevel8 (BIGINT), pclevel17 (BIGINT), pclevel18 (BIGINT), pclevel19 (BIGINT), pcft_ftug (BIGINT), pcalloncam (TEXT), xpcapplfee (DOUBLE PRECISION), pcapplfeeu (BIGINT), pcroom (TEXT), xpcchg1at0 (TEXT), pcchg1at0 (TEXT), xpcchg1af0 (TEXT), pcchg1af0 (TEXT), xpcchg1ay0 (TEXT), pcchg1ay0 (TEXT), xpcchg1at1 (TEXT), pcchg1at1 (TEXT), xpcchg1af1 (TEXT), pcchg1af1 (TEXT), xpcchg1ay1 (TEXT), pcchg1ay1 (TEXT), xpcchg1at2 (TEXT), pcchg1at2 (TEXT), xpcchg1af2 (TEXT), pcchg1af2 (TEXT), xpcchg1ay2 (TEXT), pcchg1ay2 (TEXT), xpcchg1at3 (TEXT), pcchg1at3 (TEXT), xpcchg1af3 (TEXT), pcchg1af3 (TEXT), xpcchg1ay3 (TEXT), pcchg1ay3 (TEXT), pcchg1tgtd (TEXT), pcchg1fgtd (TEXT), xpcchg2at0 (TEXT), pcchg2at0 (TEXT), xpcchg2af0 (TEXT), pcchg2af0 (TEXT), xpcchg2ay0 (TEXT), pcchg2ay0 (TEXT), xpcchg2at1 (TEXT), pcchg2at1 (TEXT), xpcchg2af1 (TEXT), pcchg2af1 (TEXT), xpcchg2ay1 (TEXT), pcchg2ay1 (TEXT), xpcchg2at2 (TEXT), pcchg2at2 (TEXT), xpcchg2af2 (TEXT), pcchg2af2 (TEXT), xpcchg2ay2 (TEXT), pcchg2ay2 (TEXT), xpcchg2at3 (TEXT), pcchg2at3 (TEXT), xpcchg2af3 (TEXT), pcchg2af3 (TEXT), xpcchg2ay3 (TEXT), pcchg2ay3 (TEXT), pcchg2tgtd (TEXT), pcchg2fgtd (TEXT), xpcchg3at0 (TEXT), pcchg3at0 (TEXT), xpcchg3af0 (TEXT), pcchg3af0 (TEXT), xpcchg3ay0 (TEXT), pcchg3ay0 (TEXT), xpcchg3at1 (TEXT), pcchg3at1 (TEXT), xpcchg3af1 (TEXT), pcchg3af1 (TEXT), xpcchg3ay1 (TEXT), pcchg3ay1 (TEXT), xpcchg3at2 (TEXT), pcchg3at2 (TEXT), xpcchg3af2 (TEXT), pcchg3af2 (TEXT), xpcchg3ay2 (TEXT), pcchg3ay2 (TEXT), xpcchg3at3 (TEXT), pcchg3at3 (TEXT), xpcchg3af3 (TEXT), pcchg3af3 (TEXT), xpcchg3ay3 (TEXT), pcchg3ay3 (TEXT), pcchg3tgtd (TEXT), pcchg3fgtd (TEXT), xpcchg4ay0 (TEXT), pcchg4ay0 (TEXT), xpcchg4ay1 (TEXT), pcchg4ay1 (TEXT), xpcchg4ay2 (TEXT), pcchg4ay2 (TEXT), xpcchg4ay3 (TEXT), pcchg4ay3 (TEXT), xpcchg5ay0 (TEXT), pcchg5ay0 (TEXT), xpcchg5ay1 (TEXT), pcchg5ay1 (TEXT), xpcchg5ay2 (TEXT), pcchg5ay2 (TEXT), xpcchg5ay3 (TEXT), pcchg5ay3 (TEXT), xpcchg6ay0 (TEXT), pcchg6ay0 (TEXT), xpcchg6ay1 (TEXT), pcchg6ay1 (TEXT), xpcchg6ay2 (TEXT), pcchg6ay2 (TEXT), xpcchg6ay3 (TEXT), pcchg6ay3 (TEXT), xpcchg7ay0 (TEXT), pcchg7ay0 (TEXT), xpcchg7ay1 (TEXT), pcchg7ay1 (TEXT), xpcchg7ay2 (TEXT), pcchg7ay2 (TEXT), xpcchg7ay3 (TEXT), pcchg7ay3 (TEXT), xpcchg8ay0 (TEXT), pcchg8ay0 (TEXT), xpcchg8ay1 (TEXT), pcchg8ay1 (TEXT), xpcchg8ay2 (TEXT), pcchg8ay2 (TEXT), xpcchg8ay3 (TEXT), pcchg8ay3 (TEXT), xpcchg9ay0 (TEXT), pcchg9ay0 (TEXT), xpcchg9ay1 (TEXT), pcchg9ay1 (TEXT), xpcchg9ay2 (TEXT), pcchg9ay2 (TEXT), xpcchg9ay3 (TEXT), pcchg9ay3 (DOUBLE PRECISION), pccipcode1 (TEXT), xpcciplgt1 (TEXT), pcciplgth1 (BIGINT), pcprgmsr1 (TEXT), xpcmthcmp1 (TEXT), pcmthcmp1 (TEXT), xpcwkcmp1 (TEXT), pcwkcmp1 (TEXT), xpclnayhr1 (TEXT), pclnayhr1 (TEXT), xpclnaywk1 (TEXT), pclnaywk1 (TEXT), xpcchg1py0 (TEXT), pcchg1py0 (TEXT), xpcchg1py1 (TEXT), pcchg1py1 (TEXT), xpcchg1py2 (TEXT), pcchg1py2 (TEXT), xpcchg1py3 (TEXT), pcchg1py3 (TEXT), xpcchg4py0 (TEXT), pcchg4py0 (TEXT), xpcchg4py1 (TEXT), pcchg4py1 (TEXT), xpcchg4py2 (TEXT), pcchg4py2 (TEXT), xpcchg4py3 (TEXT), pcchg4py3 (TEXT), xpcchg5py0 (TEXT), pcchg5py0 (TEXT), xpcchg5py1 (TEXT), pcchg5py1 (TEXT), xpcchg5py2 (TEXT), pcchg5py2 (TEXT), xpcchg5py3 (TEXT), pcchg5py3 (TEXT), xpcchg6py0 (TEXT), pcchg6py0 (TEXT), xpcchg6py1 (TEXT), pcchg6py1 (TEXT), xpcchg6py2 (TEXT), pcchg6py2 (TEXT), xpcchg6py3 (TEXT), pcchg6py3 (TEXT), xpcchg7py0 (TEXT), pcchg7py0 (TEXT), xpcchg7py1 (TEXT), pcchg7py1 (TEXT), xpcchg7py2 (TEXT), pcchg7py2 (TEXT), xpcchg7py3 (TEXT), pcchg7py3 (TEXT), xpcchg8py0 (TEXT), pcchg8py0 (TEXT), xpcchg8py1 (TEXT), pcchg8py1 (TEXT), xpcchg8py2 (TEXT), pcchg8py2 (TEXT), xpcchg8py3 (TEXT), pcchg8py3 (TEXT), xpcchg9py0 (TEXT), pcchg9py0 (TEXT), xpcchg9py1 (TEXT), pcchg9py1 (TEXT), xpcchg9py2 (TEXT), pcchg9py2 (TEXT), xpcchg9py3 (TEXT), pcchg9py3  (DOUBLE PRECISION), and foreign keys: .\n",
      "> Table desc str: Table 'IC2022_CAMPUSES' has columns: index (BIGINT), unitid (BIGINT), campusid (TEXT), pcinstnm (TEXT), pcaddr (TEXT), pccity (TEXT), pcstabbr (TEXT), pczip (BIGINT), pcfips (BIGINT), pcobereg (TEXT), pcchfnm (TEXT), pcchftitle (BIGINT), pcgentele (TEXT), pcein (TEXT), pcueis (BIGINT), pcopeid (BIGINT), pcopeflag (BIGINT), oldunitid (TEXT), pcwebaddr (TEXT), pcadminurl (TEXT), pcfaidurl (TEXT), pcapplurl (TEXT), pcnpricurl (TEXT), pcveturl (TEXT), pcathurl (TEXT), pcdisaurl (BIGINT), pcsector (BIGINT), pciclevel (BIGINT), pccontrol (BIGINT), pchloffer (BIGINT), pcugoffer (BIGINT), pcgroffer (BIGINT), pchdegofr1 (BIGINT), pcdeggrant (BIGINT), pchbcu (BIGINT), pctribal (BIGINT), pclocale (BIGINT), pcopenpubl (TEXT), pcact (BIGINT), pccyactive (BIGINT), pcpostsec (BIGINT), pcpseflag (BIGINT), pcpset4flg (BIGINT), pccbsa (BIGINT), pccbsatype (BIGINT), pccsa (BIGINT), pccountycd (TEXT), pccountynm (BIGINT), pccngdstcd (DOUBLE PRECISION), pclongitud (DOUBLE PRECISION), pclatitude (BIGINT), pclevel1 (BIGINT), pclevel1a (BIGINT), pclevel1b (BIGINT), pclevel2 (BIGINT), pclevel3 (BIGINT), pclevel4 (BIGINT), pclevel5 (BIGINT), pclevel6 (BIGINT), pclevel7 (BIGINT), pclevel8 (BIGINT), pclevel17 (BIGINT), pclevel18 (BIGINT), pclevel19 (BIGINT), pcft_ftug (BIGINT), pcalloncam (TEXT), xpcapplfee (DOUBLE PRECISION), pcapplfeeu (BIGINT), pcroom (TEXT), xpcchg1at0 (TEXT), pcchg1at0 (TEXT), xpcchg1af0 (TEXT), pcchg1af0 (TEXT), xpcchg1ay0 (TEXT), pcchg1ay0 (TEXT), xpcchg1at1 (TEXT), pcchg1at1 (TEXT), xpcchg1af1 (TEXT), pcchg1af1 (TEXT), xpcchg1ay1 (TEXT), pcchg1ay1 (TEXT), xpcchg1at2 (TEXT), pcchg1at2 (TEXT), xpcchg1af2 (TEXT), pcchg1af2 (TEXT), xpcchg1ay2 (TEXT), pcchg1ay2 (TEXT), xpcchg1at3 (TEXT), pcchg1at3 (TEXT), xpcchg1af3 (TEXT), pcchg1af3 (TEXT), xpcchg1ay3 (TEXT), pcchg1ay3 (TEXT), pcchg1tgtd (TEXT), pcchg1fgtd (TEXT), xpcchg2at0 (TEXT), pcchg2at0 (TEXT), xpcchg2af0 (TEXT), pcchg2af0 (TEXT), xpcchg2ay0 (TEXT), pcchg2ay0 (TEXT), xpcchg2at1 (TEXT), pcchg2at1 (TEXT), xpcchg2af1 (TEXT), pcchg2af1 (TEXT), xpcchg2ay1 (TEXT), pcchg2ay1 (TEXT), xpcchg2at2 (TEXT), pcchg2at2 (TEXT), xpcchg2af2 (TEXT), pcchg2af2 (TEXT), xpcchg2ay2 (TEXT), pcchg2ay2 (TEXT), xpcchg2at3 (TEXT), pcchg2at3 (TEXT), xpcchg2af3 (TEXT), pcchg2af3 (TEXT), xpcchg2ay3 (TEXT), pcchg2ay3 (TEXT), pcchg2tgtd (TEXT), pcchg2fgtd (TEXT), xpcchg3at0 (TEXT), pcchg3at0 (TEXT), xpcchg3af0 (TEXT), pcchg3af0 (TEXT), xpcchg3ay0 (TEXT), pcchg3ay0 (TEXT), xpcchg3at1 (TEXT), pcchg3at1 (TEXT), xpcchg3af1 (TEXT), pcchg3af1 (TEXT), xpcchg3ay1 (TEXT), pcchg3ay1 (TEXT), xpcchg3at2 (TEXT), pcchg3at2 (TEXT), xpcchg3af2 (TEXT), pcchg3af2 (TEXT), xpcchg3ay2 (TEXT), pcchg3ay2 (TEXT), xpcchg3at3 (TEXT), pcchg3at3 (TEXT), xpcchg3af3 (TEXT), pcchg3af3 (TEXT), xpcchg3ay3 (TEXT), pcchg3ay3 (TEXT), pcchg3tgtd (TEXT), pcchg3fgtd (TEXT), xpcchg4ay0 (TEXT), pcchg4ay0 (TEXT), xpcchg4ay1 (TEXT), pcchg4ay1 (TEXT), xpcchg4ay2 (TEXT), pcchg4ay2 (TEXT), xpcchg4ay3 (TEXT), pcchg4ay3 (TEXT), xpcchg5ay0 (TEXT), pcchg5ay0 (TEXT), xpcchg5ay1 (TEXT), pcchg5ay1 (TEXT), xpcchg5ay2 (TEXT), pcchg5ay2 (TEXT), xpcchg5ay3 (TEXT), pcchg5ay3 (TEXT), xpcchg6ay0 (TEXT), pcchg6ay0 (TEXT), xpcchg6ay1 (TEXT), pcchg6ay1 (TEXT), xpcchg6ay2 (TEXT), pcchg6ay2 (TEXT), xpcchg6ay3 (TEXT), pcchg6ay3 (TEXT), xpcchg7ay0 (TEXT), pcchg7ay0 (TEXT), xpcchg7ay1 (TEXT), pcchg7ay1 (TEXT), xpcchg7ay2 (TEXT), pcchg7ay2 (TEXT), xpcchg7ay3 (TEXT), pcchg7ay3 (TEXT), xpcchg8ay0 (TEXT), pcchg8ay0 (TEXT), xpcchg8ay1 (TEXT), pcchg8ay1 (TEXT), xpcchg8ay2 (TEXT), pcchg8ay2 (TEXT), xpcchg8ay3 (TEXT), pcchg8ay3 (TEXT), xpcchg9ay0 (TEXT), pcchg9ay0 (TEXT), xpcchg9ay1 (TEXT), pcchg9ay1 (TEXT), xpcchg9ay2 (TEXT), pcchg9ay2 (TEXT), xpcchg9ay3 (TEXT), pcchg9ay3 (DOUBLE PRECISION), pccipcode1 (TEXT), xpcciplgt1 (TEXT), pcciplgth1 (BIGINT), pcprgmsr1 (TEXT), xpcmthcmp1 (TEXT), pcmthcmp1 (TEXT), xpcwkcmp1 (TEXT), pcwkcmp1 (TEXT), xpclnayhr1 (TEXT), pclnayhr1 (TEXT), xpclnaywk1 (TEXT), pclnaywk1 (TEXT), xpcchg1py0 (TEXT), pcchg1py0 (TEXT), xpcchg1py1 (TEXT), pcchg1py1 (TEXT), xpcchg1py2 (TEXT), pcchg1py2 (TEXT), xpcchg1py3 (TEXT), pcchg1py3 (TEXT), xpcchg4py0 (TEXT), pcchg4py0 (TEXT), xpcchg4py1 (TEXT), pcchg4py1 (TEXT), xpcchg4py2 (TEXT), pcchg4py2 (TEXT), xpcchg4py3 (TEXT), pcchg4py3 (TEXT), xpcchg5py0 (TEXT), pcchg5py0 (TEXT), xpcchg5py1 (TEXT), pcchg5py1 (TEXT), xpcchg5py2 (TEXT), pcchg5py2 (TEXT), xpcchg5py3 (TEXT), pcchg5py3 (TEXT), xpcchg6py0 (TEXT), pcchg6py0 (TEXT), xpcchg6py1 (TEXT), pcchg6py1 (TEXT), xpcchg6py2 (TEXT), pcchg6py2 (TEXT), xpcchg6py3 (TEXT), pcchg6py3 (TEXT), xpcchg7py0 (TEXT), pcchg7py0 (TEXT), xpcchg7py1 (TEXT), pcchg7py1 (TEXT), xpcchg7py2 (TEXT), pcchg7py2 (TEXT), xpcchg7py3 (TEXT), pcchg7py3 (TEXT), xpcchg8py0 (TEXT), pcchg8py0 (TEXT), xpcchg8py1 (TEXT), pcchg8py1 (TEXT), xpcchg8py2 (TEXT), pcchg8py2 (TEXT), xpcchg8py3 (TEXT), pcchg8py3 (TEXT), xpcchg9py0 (TEXT), pcchg9py0 (TEXT), xpcchg9py1 (TEXT), pcchg9py1 (TEXT), xpcchg9py2 (TEXT), pcchg9py2 (TEXT), xpcchg9py3 (TEXT), pcchg9py3  (DOUBLE PRECISION), and foreign keys: .\n",
      "INFO:httpx:HTTP Request: POST https://api.openai.com/v1/chat/completions \"HTTP/1.1 200 OK\"\n",
      "HTTP Request: POST https://api.openai.com/v1/chat/completions \"HTTP/1.1 200 OK\"\n",
      "HTTP Request: POST https://api.openai.com/v1/chat/completions \"HTTP/1.1 200 OK\"\n",
      "HTTP Request: POST https://api.openai.com/v1/chat/completions \"HTTP/1.1 200 OK\"\n",
      "HTTP Request: POST https://api.openai.com/v1/chat/completions \"HTTP/1.1 200 OK\"\n",
      "HTTP Request: POST https://api.openai.com/v1/chat/completions \"HTTP/1.1 200 OK\"\n",
      "HTTP Request: POST https://api.openai.com/v1/chat/completions \"HTTP/1.1 200 OK\"\n",
      "INFO:httpx:HTTP Request: POST https://api.openai.com/v1/chat/completions \"HTTP/1.1 200 OK\"\n",
      "HTTP Request: POST https://api.openai.com/v1/chat/completions \"HTTP/1.1 200 OK\"\n",
      "HTTP Request: POST https://api.openai.com/v1/chat/completions \"HTTP/1.1 200 OK\"\n",
      "HTTP Request: POST https://api.openai.com/v1/chat/completions \"HTTP/1.1 200 OK\"\n",
      "HTTP Request: POST https://api.openai.com/v1/chat/completions \"HTTP/1.1 200 OK\"\n",
      "HTTP Request: POST https://api.openai.com/v1/chat/completions \"HTTP/1.1 200 OK\"\n",
      "HTTP Request: POST https://api.openai.com/v1/chat/completions \"HTTP/1.1 200 OK\"\n"
     ]
    }
   ],
   "source": [
    "from llama_index.indices.struct_store.sql_query import NLSQLTableQueryEngine\n",
    "\n",
    "query_engine = NLSQLTableQueryEngine(\n",
    "    sql_database=sql_database,\n",
    "    tables=[\"IC2022_CAMPUSES\"],\n",
    ")\n",
    "query_str = \"List all the Institutes in Massachesetts.\"\n",
    "response = query_engine.query(query_str)"
   ]
  },
  {
   "cell_type": "code",
   "execution_count": 80,
   "metadata": {},
   "outputs": [
    {
     "name": "stdout",
     "output_type": "stream",
     "text": [
      "INFO:httpx:HTTP Request: POST https://api.openai.com/v1/embeddings \"HTTP/1.1 200 OK\"\n",
      "HTTP Request: POST https://api.openai.com/v1/embeddings \"HTTP/1.1 200 OK\"\n",
      "HTTP Request: POST https://api.openai.com/v1/embeddings \"HTTP/1.1 200 OK\"\n",
      "HTTP Request: POST https://api.openai.com/v1/embeddings \"HTTP/1.1 200 OK\"\n",
      "HTTP Request: POST https://api.openai.com/v1/embeddings \"HTTP/1.1 200 OK\"\n",
      "HTTP Request: POST https://api.openai.com/v1/embeddings \"HTTP/1.1 200 OK\"\n",
      "HTTP Request: POST https://api.openai.com/v1/embeddings \"HTTP/1.1 200 OK\"\n"
     ]
    }
   ],
   "source": [
    "from llama_index.indices.struct_store.sql_query import (\n",
    "    SQLTableRetrieverQueryEngine,\n",
    ")\n",
    "from llama_index.objects import (\n",
    "    SQLTableNodeMapping,\n",
    "    ObjectIndex,\n",
    "    SQLTableSchema,\n",
    ")\n",
    "from llama_index import VectorStoreIndex\n",
    "\n",
    "ADM2022_prefix = \"\"\"This table contains information about the undergraduate selection process for entering first-time, degree/certificate-seeking students. This includes information about admission considerations, applicants, applicants that were admitted, and admitted students who enrolled. SAT and ACT test scores are included for institutions that require or consider test scores for admission. These data are applicable for institutions that do not have an open admissions policy for entering first-time students.\"\"\"\n",
    "C2022_A_prefix = \"\"\"This table contains the number of awards by type of program, level of award (certificate or degree), first or second major, and by race/ethnicity and gender. Data covers all awards granted between July 1, 2021, and June 30, 2022. Each record is uniquely defined by the variables IPEDS ID (UNITID), classification of instructional program (CIPCODE), first or second major (MAJORNUM), and award level (AWLEVEL). Each record will contain the total awards, awards for men and women, and the total awards and awards for men and women for all nine race/ethnicity categories.\"\"\"\n",
    "C2022_B_prefix = \"\"\"This table contains the number of students who completed any degree or certificate by race/ethnicity and gender.\"\"\"\n",
    "C2022_C_prefix = \"\"\"This table contains the number of students receiving a degree or certificate by the level of award and by race/ethnicity, gender, and age categories. Data covers awards granted between July 1, 2021, and June 30, 2022. This file contains multiple records per institution. Each record is uniquely defined by the variables IPEDS ID (UNITID) and award level (AWLEVELC). Each record will contain the total number of students receiving awards, number of men and women receiving awards, number of students receiving awards for all nine race/ethnicity categories; number of students receiving awards are also available for the following age groups: under 18, 18-24, 25-39, 40 and above.\"\"\"\n",
    "C2022_DEP_prefix = \"\"\"This table contains the number of programs offered by type of program, level of award (certificate or degree), and distance education status. Type of program is categorized according to the 2020 Classification of Instructional Programs (CIP), a detailed coding system for postsecondary instructional programs. Beginning in 2019-20, the less than 1-year certificate award level is divided into the following two award levels: certificates of less than 12 weeks and certificates of at least 12 weeks but less than 1 year. More detailed information on distance education was also added in 2019-20. This file contains multiple records per institution.\"\"\"\n",
    "EFFY_2022_prefix = \"\"\"This table contains the unduplicated headcount of students enrolled over the 12-month period (July 1, 2021 - June 30, 2022) for both undergraduate and graduate levels. Beginning with the 2019-20 data collected in 2020-21, undergraduate level headcounts are available by attendance status (full- and part-time) for both degree/certificate-seeking and nondegree/certificate-seeking students. Degree/certificate-seeking headcounts are further disaggregated by first-time, transfer-ins, and continuing student categories. These enrollment data are particularly valuable for institutions that use non-traditional calendar systems and offer short-term programs. Because this enrollment measure encompasses an entire year, it provides a more complete picture of the number of students these schools serve.\"\"\"\n",
    "EFFY2022_DIST_prefix = \"\"\"This table contains the unduplicated headcount of students enrolled over the 12-month period (July 1, 2021 - June 30, 2022) by distance education status and level of student.\"\"\"\n",
    "EFIA2022_prefix = \"\"\"This table contains data on instructional activity measured in total credit and/or contact hours delivered by institutions.\"\"\"\n",
    "FLAGS2022_prefix = \"\"\"This table contains response status information for every institution in the 2022-23 IPEDS universe. This file will determine institutions that have responded; institutions that did not respond and have imputed data; and survey applicability. It will also identify institutions whose data represents multiple campuses (parent/child reporting).\"\"\"\n",
    "GR200_22_prefix = \"\"\"This table contains the graduation rate status as of August 31, 2022, for the cohort of full-time, first-time degree/certificate-seeking undergraduates.\"\"\"\n",
    "GR2022_prefix = \"\"\"This table contains the graduation rate status as of August 31, 2022, for the cohort of full-time, first-time degree/certificate-seeking undergraduates in both four-year and two-year institutions.\"\"\"\n",
    "GR2022_PEL_SSL_prefix = \"\"\"This table contains the graduation rate status as of August 31, 2022, for three subcohorts of full-time, first-time degree/certificate-seeking undergraduates. The three subcohorts are students who received a Pell grant; students who received a Direct Subsidized loan and did \"NOT\" receive a Pell grant; and students who did not receive either a Pell grant or Direct Subsidized loan. In four-year institutions each of the subcohorts will include the number of bachelor degree-seeking students who were enrolled in 2016, the number of bachelor degree-seeking students who completed any degree/certificate within 150 percent of normal time, the number who completed a bachelor's degree within 150 percent of normal time. Data for students seeking a degree/certificate other than a bachelor's degree are also included for four-year institutions. Data for two-year and less-than 2-year institutions include the number of full-time, first-time students who were enrolled in 2019, the number of students who completed any degree/certificate 150 percent of normal time.\"\"\"\n",
    "HD2022_prefix = \"\"\"This table contains directory information for every institution in the 2022-23 IPEDS universe. Includes name, address, city, state, zip code and various URL links to the institution's home page, admissions, financial aid offices, and the net price calculator. Identifies institutions as currently active, and institutions that participate in Title IV federal financial aid programs for which IPEDS is mandatory.\"\"\"\n",
    "IC2022_prefix = \"\"\"This table contains data on program and award level offerings, control and affiliation of the institution. It also contains information on special learning opportunities, student services, disability services, tuition plans, and athletic conference associations. Services and programs for service members and veterans are also included.\"\"\"\n",
    "IC2022_AY_prefix = \"\"\"This table contains data on student charges for a full academic year. Institutions that offer primarily academic programs measured in credit hours have a predominant calendar system of semester, quarter, trimester, or 4-1-4 or other academic calendar system report student charges for the full academic year. Student charges on this data file include: average tuition and required fees for both full-time undergraduate and graduate students; per credit hour charges for both part-time undergraduate and graduate students.\"\"\"\n",
    "IC2022_CAMPUSES_prefix = \"\"\"This table contains data for branch campus locations from the 2022-23 IPEDS universe that were listed in College Navigator. This is not a comprehensive list of all Title IV branch campus locations in the U.S. and other jurisdictions. Main campus institutions that report to IPEDS have the option to list their branch campus locations in College Navigator. In the 2022-23 data collection, 191 main campus institutions reported a total of 504 branch locations. The number of provisionally released branch\"\"\"\n",
    "IC2022_PY_prefix = \"\"\"This table contains data on student charges by program. Institutions that measure programs in clock hours or have primarily occupational programs measured in credit hours report student charges data by the full length PROGRAM. This file contains the number of programs offered and the price of attendance for entering students that are made available to the public on College Navigator; Price of attendance includes amounts for published tuition and required fees, books and supplies, room and board and other expenses for the largest program. Estimates for books and supplies, room and board and other expenses are those from the Cost of Attendance report used by the financial aid office in determining financial need.\"\"\"\n",
    "OM2022_prefix = \"\"\"This table contains award and enrollment data from degree-granting institutions on four cohorts and eight subcohorts of undergraduates who entered an institution in 2014-15 at three points in time: four-year (August 31, 2018) six-year (August 31, 2020) and eight-year (August 31, 2022).\"\"\"\n",
    "SFA2122_prefix = \"\"\"This table contains data on the number of full-time, first-time degree/certificate-seeking undergraduate students and all undergraduate students who were awarded different types of student financial aid, including grants and loans, from different sources at each institution.\"\"\"\n",
    "SFAV2122_prefix = \"\"\"This table contains the number of students, who received either or both Post-9/11 GI Benefits or the Department of Defense Tuition Assistance through the institution. Eligible dependents receiving such benefits are included. Students who received both benefits, are counted in both programs. Total dollar amounts received by students are included.\"\"\"\n",
    "\n",
    "\n",
    "\n",
    "# set Logging to DEBUG for more detailed outputs\n",
    "table_node_mapping = SQLTableNodeMapping(sql_database)\n",
    "table_schema_objs = [ # list of SQLTableSchema objects\n",
    "    SQLTableSchema(table_name=\"ADM2022\", context_str=ADM2022_prefix),\n",
    "    SQLTableSchema(table_name=\"C2022DEP\", context_str=C2022_DEP_prefix),\n",
    "    SQLTableSchema(table_name=\"C2022_A\", context_str=C2022_A_prefix),\n",
    "    SQLTableSchema(table_name=\"C2022_B\", context_str=C2022_B_prefix),\n",
    "    SQLTableSchema(table_name=\"C2022_C\", context_str=C2022_C_prefix),\n",
    "    SQLTableSchema(table_name=\"EFFY2022\", context_str=EFFY_2022_prefix),\n",
    "    SQLTableSchema(table_name=\"EFFY2022_DIST\", context_str=EFFY2022_DIST_prefix),\n",
    "    SQLTableSchema(table_name=\"EFIA2022\", context_str=EFIA2022_prefix),\n",
    "    SQLTableSchema(table_name=\"FLAGS2022\", context_str=FLAGS2022_prefix),\n",
    "    SQLTableSchema(table_name=\"GR200_22\", context_str=GR200_22_prefix),\n",
    "    SQLTableSchema(table_name=\"GR2022\", context_str=GR2022_prefix),\n",
    "    SQLTableSchema(table_name=\"GR2022_L2\", context_str=GR2022_PEL_SSL_prefix),\n",
    "    SQLTableSchema(table_name=\"GR2022_PELL_SSL\", context_str=GR2022_prefix),\n",
    "    SQLTableSchema(table_name=\"HD2022\", context_str=HD2022_prefix),\n",
    "    SQLTableSchema(table_name=\"IC2022\", context_str=IC2022_prefix),\n",
    "    SQLTableSchema(table_name=\"IC2022_AY\", context_str=IC2022_AY_prefix),\n",
    "    SQLTableSchema(table_name=\"IC2022_CAMPUSES\", context_str=IC2022_CAMPUSES_prefix),\n",
    "    SQLTableSchema(table_name=\"IC2022_PY\", context_str=IC2022_PY_prefix),\n",
    "    SQLTableSchema(table_name=\"OM2022\", context_str=OM2022_prefix),\n",
    "    SQLTableSchema(table_name=\"SFA2122\", context_str=SFA2122_prefix),\n",
    "    SQLTableSchema(table_name=\"SFAV2122\", context_str=SFAV2122_prefix),\n",
    "]  # add a SQLTableSchema for each table\n",
    "\n",
    "\n",
    "obj_index = ObjectIndex.from_objects(\n",
    "    table_schema_objs,\n",
    "    table_node_mapping,\n",
    "    VectorStoreIndex,\n",
    ")\n",
    "query_engine = SQLTableRetrieverQueryEngine(\n",
    "    sql_database, obj_index.as_retriever(similarity_top_k=1)\n",
    ")\n"
   ]
  },
  {
   "cell_type": "code",
   "execution_count": 81,
   "metadata": {},
   "outputs": [
    {
     "name": "stdout",
     "output_type": "stream",
     "text": [
      "INFO:httpx:HTTP Request: POST https://api.openai.com/v1/embeddings \"HTTP/1.1 200 OK\"\n",
      "HTTP Request: POST https://api.openai.com/v1/embeddings \"HTTP/1.1 200 OK\"\n",
      "HTTP Request: POST https://api.openai.com/v1/embeddings \"HTTP/1.1 200 OK\"\n",
      "HTTP Request: POST https://api.openai.com/v1/embeddings \"HTTP/1.1 200 OK\"\n",
      "HTTP Request: POST https://api.openai.com/v1/embeddings \"HTTP/1.1 200 OK\"\n",
      "HTTP Request: POST https://api.openai.com/v1/embeddings \"HTTP/1.1 200 OK\"\n",
      "HTTP Request: POST https://api.openai.com/v1/embeddings \"HTTP/1.1 200 OK\"\n",
      "INFO:llama_index.indices.struct_store.sql_retriever:> Table desc str: Table 'EFFY2022' has columns: index (BIGINT), unitid (BIGINT), effyalev (BIGINT), effylev (BIGINT), lstudy (BIGINT), xeytotlt (TEXT), efytotlt (BIGINT), xeytotlm (TEXT), efytotlm (BIGINT), xeytotlw (TEXT), efytotlw (BIGINT), xefyaiat (TEXT), efyaiant (BIGINT), xefyaiam (TEXT), efyaianm (BIGINT), xefyaiaw (TEXT), efyaianw (BIGINT), xefyasit (TEXT), efyasiat (BIGINT), xefyasim (TEXT), efyasiam (BIGINT), xefyasiw (TEXT), efyasiaw (BIGINT), xefybkat (TEXT), efybkaat (BIGINT), xefybkam (TEXT), efybkaam (BIGINT), xefybkaw (TEXT), efybkaaw (BIGINT), xefyhist (TEXT), efyhispt (BIGINT), xefyhism (TEXT), efyhispm (BIGINT), xefyhisw (TEXT), efyhispw (BIGINT), xefynhpt (TEXT), efynhpit (BIGINT), xefynhpm (TEXT), efynhpim (BIGINT), xefynhpw (TEXT), efynhpiw (BIGINT), xefywhit (TEXT), efywhitt (BIGINT), xefywhim (TEXT), efywhitm (BIGINT), xefywhiw (TEXT), efywhitw (BIGINT), xefy2mot (TEXT), efy2mort (BIGINT), xefy2mom (TEXT), efy2morm (BIGINT), xefy2mow (TEXT), efy2morw (BIGINT), xeyunknt (TEXT), efyunknt (BIGINT), xeyunknm (TEXT), efyunknm (BIGINT), xeyunknw (TEXT), efyunknw (BIGINT), xeynralt (TEXT), efynralt (BIGINT), xeynralm (TEXT), efynralm (BIGINT), xeynralw (TEXT), efynralw (BIGINT), xefyguun (TEXT), efyguun (DOUBLE PRECISION), xefyguan (TEXT), efyguan (DOUBLE PRECISION), xefyguto (TEXT), efygutot (DOUBLE PRECISION), xefygukn (TEXT), efygukn  (DOUBLE PRECISION), and foreign keys: . The table description is: This table contains the unduplicated headcount of students enrolled over the 12-month period (July 1, 2021 - June 30, 2022) for both undergraduate and graduate levels. Beginning with the 2019-20 data collected in 2020-21, undergraduate level headcounts are available by attendance status (full- and part-time) for both degree/certificate-seeking and nondegree/certificate-seeking students. Degree/certificate-seeking headcounts are further disaggregated by first-time, transfer-ins, and continuing student categories. These enrollment data are particularly valuable for institutions that use non-traditional calendar systems and offer short-term programs. Because this enrollment measure encompasses an entire year, it provides a more complete picture of the number of students these schools serve.\n",
      "> Table desc str: Table 'EFFY2022' has columns: index (BIGINT), unitid (BIGINT), effyalev (BIGINT), effylev (BIGINT), lstudy (BIGINT), xeytotlt (TEXT), efytotlt (BIGINT), xeytotlm (TEXT), efytotlm (BIGINT), xeytotlw (TEXT), efytotlw (BIGINT), xefyaiat (TEXT), efyaiant (BIGINT), xefyaiam (TEXT), efyaianm (BIGINT), xefyaiaw (TEXT), efyaianw (BIGINT), xefyasit (TEXT), efyasiat (BIGINT), xefyasim (TEXT), efyasiam (BIGINT), xefyasiw (TEXT), efyasiaw (BIGINT), xefybkat (TEXT), efybkaat (BIGINT), xefybkam (TEXT), efybkaam (BIGINT), xefybkaw (TEXT), efybkaaw (BIGINT), xefyhist (TEXT), efyhispt (BIGINT), xefyhism (TEXT), efyhispm (BIGINT), xefyhisw (TEXT), efyhispw (BIGINT), xefynhpt (TEXT), efynhpit (BIGINT), xefynhpm (TEXT), efynhpim (BIGINT), xefynhpw (TEXT), efynhpiw (BIGINT), xefywhit (TEXT), efywhitt (BIGINT), xefywhim (TEXT), efywhitm (BIGINT), xefywhiw (TEXT), efywhitw (BIGINT), xefy2mot (TEXT), efy2mort (BIGINT), xefy2mom (TEXT), efy2morm (BIGINT), xefy2mow (TEXT), efy2morw (BIGINT), xeyunknt (TEXT), efyunknt (BIGINT), xeyunknm (TEXT), efyunknm (BIGINT), xeyunknw (TEXT), efyunknw (BIGINT), xeynralt (TEXT), efynralt (BIGINT), xeynralm (TEXT), efynralm (BIGINT), xeynralw (TEXT), efynralw (BIGINT), xefyguun (TEXT), efyguun (DOUBLE PRECISION), xefyguan (TEXT), efyguan (DOUBLE PRECISION), xefyguto (TEXT), efygutot (DOUBLE PRECISION), xefygukn (TEXT), efygukn  (DOUBLE PRECISION), and foreign keys: . The table description is: This table contains the unduplicated headcount of students enrolled over the 12-month period (July 1, 2021 - June 30, 2022) for both undergraduate and graduate levels. Beginning with the 2019-20 data collected in 2020-21, undergraduate level headcounts are available by attendance status (full- and part-time) for both degree/certificate-seeking and nondegree/certificate-seeking students. Degree/certificate-seeking headcounts are further disaggregated by first-time, transfer-ins, and continuing student categories. These enrollment data are particularly valuable for institutions that use non-traditional calendar systems and offer short-term programs. Because this enrollment measure encompasses an entire year, it provides a more complete picture of the number of students these schools serve.\n",
      "> Table desc str: Table 'EFFY2022' has columns: index (BIGINT), unitid (BIGINT), effyalev (BIGINT), effylev (BIGINT), lstudy (BIGINT), xeytotlt (TEXT), efytotlt (BIGINT), xeytotlm (TEXT), efytotlm (BIGINT), xeytotlw (TEXT), efytotlw (BIGINT), xefyaiat (TEXT), efyaiant (BIGINT), xefyaiam (TEXT), efyaianm (BIGINT), xefyaiaw (TEXT), efyaianw (BIGINT), xefyasit (TEXT), efyasiat (BIGINT), xefyasim (TEXT), efyasiam (BIGINT), xefyasiw (TEXT), efyasiaw (BIGINT), xefybkat (TEXT), efybkaat (BIGINT), xefybkam (TEXT), efybkaam (BIGINT), xefybkaw (TEXT), efybkaaw (BIGINT), xefyhist (TEXT), efyhispt (BIGINT), xefyhism (TEXT), efyhispm (BIGINT), xefyhisw (TEXT), efyhispw (BIGINT), xefynhpt (TEXT), efynhpit (BIGINT), xefynhpm (TEXT), efynhpim (BIGINT), xefynhpw (TEXT), efynhpiw (BIGINT), xefywhit (TEXT), efywhitt (BIGINT), xefywhim (TEXT), efywhitm (BIGINT), xefywhiw (TEXT), efywhitw (BIGINT), xefy2mot (TEXT), efy2mort (BIGINT), xefy2mom (TEXT), efy2morm (BIGINT), xefy2mow (TEXT), efy2morw (BIGINT), xeyunknt (TEXT), efyunknt (BIGINT), xeyunknm (TEXT), efyunknm (BIGINT), xeyunknw (TEXT), efyunknw (BIGINT), xeynralt (TEXT), efynralt (BIGINT), xeynralm (TEXT), efynralm (BIGINT), xeynralw (TEXT), efynralw (BIGINT), xefyguun (TEXT), efyguun (DOUBLE PRECISION), xefyguan (TEXT), efyguan (DOUBLE PRECISION), xefyguto (TEXT), efygutot (DOUBLE PRECISION), xefygukn (TEXT), efygukn  (DOUBLE PRECISION), and foreign keys: . The table description is: This table contains the unduplicated headcount of students enrolled over the 12-month period (July 1, 2021 - June 30, 2022) for both undergraduate and graduate levels. Beginning with the 2019-20 data collected in 2020-21, undergraduate level headcounts are available by attendance status (full- and part-time) for both degree/certificate-seeking and nondegree/certificate-seeking students. Degree/certificate-seeking headcounts are further disaggregated by first-time, transfer-ins, and continuing student categories. These enrollment data are particularly valuable for institutions that use non-traditional calendar systems and offer short-term programs. Because this enrollment measure encompasses an entire year, it provides a more complete picture of the number of students these schools serve.\n",
      "> Table desc str: Table 'EFFY2022' has columns: index (BIGINT), unitid (BIGINT), effyalev (BIGINT), effylev (BIGINT), lstudy (BIGINT), xeytotlt (TEXT), efytotlt (BIGINT), xeytotlm (TEXT), efytotlm (BIGINT), xeytotlw (TEXT), efytotlw (BIGINT), xefyaiat (TEXT), efyaiant (BIGINT), xefyaiam (TEXT), efyaianm (BIGINT), xefyaiaw (TEXT), efyaianw (BIGINT), xefyasit (TEXT), efyasiat (BIGINT), xefyasim (TEXT), efyasiam (BIGINT), xefyasiw (TEXT), efyasiaw (BIGINT), xefybkat (TEXT), efybkaat (BIGINT), xefybkam (TEXT), efybkaam (BIGINT), xefybkaw (TEXT), efybkaaw (BIGINT), xefyhist (TEXT), efyhispt (BIGINT), xefyhism (TEXT), efyhispm (BIGINT), xefyhisw (TEXT), efyhispw (BIGINT), xefynhpt (TEXT), efynhpit (BIGINT), xefynhpm (TEXT), efynhpim (BIGINT), xefynhpw (TEXT), efynhpiw (BIGINT), xefywhit (TEXT), efywhitt (BIGINT), xefywhim (TEXT), efywhitm (BIGINT), xefywhiw (TEXT), efywhitw (BIGINT), xefy2mot (TEXT), efy2mort (BIGINT), xefy2mom (TEXT), efy2morm (BIGINT), xefy2mow (TEXT), efy2morw (BIGINT), xeyunknt (TEXT), efyunknt (BIGINT), xeyunknm (TEXT), efyunknm (BIGINT), xeyunknw (TEXT), efyunknw (BIGINT), xeynralt (TEXT), efynralt (BIGINT), xeynralm (TEXT), efynralm (BIGINT), xeynralw (TEXT), efynralw (BIGINT), xefyguun (TEXT), efyguun (DOUBLE PRECISION), xefyguan (TEXT), efyguan (DOUBLE PRECISION), xefyguto (TEXT), efygutot (DOUBLE PRECISION), xefygukn (TEXT), efygukn  (DOUBLE PRECISION), and foreign keys: . The table description is: This table contains the unduplicated headcount of students enrolled over the 12-month period (July 1, 2021 - June 30, 2022) for both undergraduate and graduate levels. Beginning with the 2019-20 data collected in 2020-21, undergraduate level headcounts are available by attendance status (full- and part-time) for both degree/certificate-seeking and nondegree/certificate-seeking students. Degree/certificate-seeking headcounts are further disaggregated by first-time, transfer-ins, and continuing student categories. These enrollment data are particularly valuable for institutions that use non-traditional calendar systems and offer short-term programs. Because this enrollment measure encompasses an entire year, it provides a more complete picture of the number of students these schools serve.\n",
      "> Table desc str: Table 'EFFY2022' has columns: index (BIGINT), unitid (BIGINT), effyalev (BIGINT), effylev (BIGINT), lstudy (BIGINT), xeytotlt (TEXT), efytotlt (BIGINT), xeytotlm (TEXT), efytotlm (BIGINT), xeytotlw (TEXT), efytotlw (BIGINT), xefyaiat (TEXT), efyaiant (BIGINT), xefyaiam (TEXT), efyaianm (BIGINT), xefyaiaw (TEXT), efyaianw (BIGINT), xefyasit (TEXT), efyasiat (BIGINT), xefyasim (TEXT), efyasiam (BIGINT), xefyasiw (TEXT), efyasiaw (BIGINT), xefybkat (TEXT), efybkaat (BIGINT), xefybkam (TEXT), efybkaam (BIGINT), xefybkaw (TEXT), efybkaaw (BIGINT), xefyhist (TEXT), efyhispt (BIGINT), xefyhism (TEXT), efyhispm (BIGINT), xefyhisw (TEXT), efyhispw (BIGINT), xefynhpt (TEXT), efynhpit (BIGINT), xefynhpm (TEXT), efynhpim (BIGINT), xefynhpw (TEXT), efynhpiw (BIGINT), xefywhit (TEXT), efywhitt (BIGINT), xefywhim (TEXT), efywhitm (BIGINT), xefywhiw (TEXT), efywhitw (BIGINT), xefy2mot (TEXT), efy2mort (BIGINT), xefy2mom (TEXT), efy2morm (BIGINT), xefy2mow (TEXT), efy2morw (BIGINT), xeyunknt (TEXT), efyunknt (BIGINT), xeyunknm (TEXT), efyunknm (BIGINT), xeyunknw (TEXT), efyunknw (BIGINT), xeynralt (TEXT), efynralt (BIGINT), xeynralm (TEXT), efynralm (BIGINT), xeynralw (TEXT), efynralw (BIGINT), xefyguun (TEXT), efyguun (DOUBLE PRECISION), xefyguan (TEXT), efyguan (DOUBLE PRECISION), xefyguto (TEXT), efygutot (DOUBLE PRECISION), xefygukn (TEXT), efygukn  (DOUBLE PRECISION), and foreign keys: . The table description is: This table contains the unduplicated headcount of students enrolled over the 12-month period (July 1, 2021 - June 30, 2022) for both undergraduate and graduate levels. Beginning with the 2019-20 data collected in 2020-21, undergraduate level headcounts are available by attendance status (full- and part-time) for both degree/certificate-seeking and nondegree/certificate-seeking students. Degree/certificate-seeking headcounts are further disaggregated by first-time, transfer-ins, and continuing student categories. These enrollment data are particularly valuable for institutions that use non-traditional calendar systems and offer short-term programs. Because this enrollment measure encompasses an entire year, it provides a more complete picture of the number of students these schools serve.\n",
      "> Table desc str: Table 'EFFY2022' has columns: index (BIGINT), unitid (BIGINT), effyalev (BIGINT), effylev (BIGINT), lstudy (BIGINT), xeytotlt (TEXT), efytotlt (BIGINT), xeytotlm (TEXT), efytotlm (BIGINT), xeytotlw (TEXT), efytotlw (BIGINT), xefyaiat (TEXT), efyaiant (BIGINT), xefyaiam (TEXT), efyaianm (BIGINT), xefyaiaw (TEXT), efyaianw (BIGINT), xefyasit (TEXT), efyasiat (BIGINT), xefyasim (TEXT), efyasiam (BIGINT), xefyasiw (TEXT), efyasiaw (BIGINT), xefybkat (TEXT), efybkaat (BIGINT), xefybkam (TEXT), efybkaam (BIGINT), xefybkaw (TEXT), efybkaaw (BIGINT), xefyhist (TEXT), efyhispt (BIGINT), xefyhism (TEXT), efyhispm (BIGINT), xefyhisw (TEXT), efyhispw (BIGINT), xefynhpt (TEXT), efynhpit (BIGINT), xefynhpm (TEXT), efynhpim (BIGINT), xefynhpw (TEXT), efynhpiw (BIGINT), xefywhit (TEXT), efywhitt (BIGINT), xefywhim (TEXT), efywhitm (BIGINT), xefywhiw (TEXT), efywhitw (BIGINT), xefy2mot (TEXT), efy2mort (BIGINT), xefy2mom (TEXT), efy2morm (BIGINT), xefy2mow (TEXT), efy2morw (BIGINT), xeyunknt (TEXT), efyunknt (BIGINT), xeyunknm (TEXT), efyunknm (BIGINT), xeyunknw (TEXT), efyunknw (BIGINT), xeynralt (TEXT), efynralt (BIGINT), xeynralm (TEXT), efynralm (BIGINT), xeynralw (TEXT), efynralw (BIGINT), xefyguun (TEXT), efyguun (DOUBLE PRECISION), xefyguan (TEXT), efyguan (DOUBLE PRECISION), xefyguto (TEXT), efygutot (DOUBLE PRECISION), xefygukn (TEXT), efygukn  (DOUBLE PRECISION), and foreign keys: . The table description is: This table contains the unduplicated headcount of students enrolled over the 12-month period (July 1, 2021 - June 30, 2022) for both undergraduate and graduate levels. Beginning with the 2019-20 data collected in 2020-21, undergraduate level headcounts are available by attendance status (full- and part-time) for both degree/certificate-seeking and nondegree/certificate-seeking students. Degree/certificate-seeking headcounts are further disaggregated by first-time, transfer-ins, and continuing student categories. These enrollment data are particularly valuable for institutions that use non-traditional calendar systems and offer short-term programs. Because this enrollment measure encompasses an entire year, it provides a more complete picture of the number of students these schools serve.\n",
      "> Table desc str: Table 'EFFY2022' has columns: index (BIGINT), unitid (BIGINT), effyalev (BIGINT), effylev (BIGINT), lstudy (BIGINT), xeytotlt (TEXT), efytotlt (BIGINT), xeytotlm (TEXT), efytotlm (BIGINT), xeytotlw (TEXT), efytotlw (BIGINT), xefyaiat (TEXT), efyaiant (BIGINT), xefyaiam (TEXT), efyaianm (BIGINT), xefyaiaw (TEXT), efyaianw (BIGINT), xefyasit (TEXT), efyasiat (BIGINT), xefyasim (TEXT), efyasiam (BIGINT), xefyasiw (TEXT), efyasiaw (BIGINT), xefybkat (TEXT), efybkaat (BIGINT), xefybkam (TEXT), efybkaam (BIGINT), xefybkaw (TEXT), efybkaaw (BIGINT), xefyhist (TEXT), efyhispt (BIGINT), xefyhism (TEXT), efyhispm (BIGINT), xefyhisw (TEXT), efyhispw (BIGINT), xefynhpt (TEXT), efynhpit (BIGINT), xefynhpm (TEXT), efynhpim (BIGINT), xefynhpw (TEXT), efynhpiw (BIGINT), xefywhit (TEXT), efywhitt (BIGINT), xefywhim (TEXT), efywhitm (BIGINT), xefywhiw (TEXT), efywhitw (BIGINT), xefy2mot (TEXT), efy2mort (BIGINT), xefy2mom (TEXT), efy2morm (BIGINT), xefy2mow (TEXT), efy2morw (BIGINT), xeyunknt (TEXT), efyunknt (BIGINT), xeyunknm (TEXT), efyunknm (BIGINT), xeyunknw (TEXT), efyunknw (BIGINT), xeynralt (TEXT), efynralt (BIGINT), xeynralm (TEXT), efynralm (BIGINT), xeynralw (TEXT), efynralw (BIGINT), xefyguun (TEXT), efyguun (DOUBLE PRECISION), xefyguan (TEXT), efyguan (DOUBLE PRECISION), xefyguto (TEXT), efygutot (DOUBLE PRECISION), xefygukn (TEXT), efygukn  (DOUBLE PRECISION), and foreign keys: . The table description is: This table contains the unduplicated headcount of students enrolled over the 12-month period (July 1, 2021 - June 30, 2022) for both undergraduate and graduate levels. Beginning with the 2019-20 data collected in 2020-21, undergraduate level headcounts are available by attendance status (full- and part-time) for both degree/certificate-seeking and nondegree/certificate-seeking students. Degree/certificate-seeking headcounts are further disaggregated by first-time, transfer-ins, and continuing student categories. These enrollment data are particularly valuable for institutions that use non-traditional calendar systems and offer short-term programs. Because this enrollment measure encompasses an entire year, it provides a more complete picture of the number of students these schools serve.\n",
      "INFO:httpx:HTTP Request: POST https://api.openai.com/v1/chat/completions \"HTTP/1.1 200 OK\"\n",
      "HTTP Request: POST https://api.openai.com/v1/chat/completions \"HTTP/1.1 200 OK\"\n",
      "HTTP Request: POST https://api.openai.com/v1/chat/completions \"HTTP/1.1 200 OK\"\n",
      "HTTP Request: POST https://api.openai.com/v1/chat/completions \"HTTP/1.1 200 OK\"\n",
      "HTTP Request: POST https://api.openai.com/v1/chat/completions \"HTTP/1.1 200 OK\"\n",
      "HTTP Request: POST https://api.openai.com/v1/chat/completions \"HTTP/1.1 200 OK\"\n",
      "HTTP Request: POST https://api.openai.com/v1/chat/completions \"HTTP/1.1 200 OK\"\n",
      "INFO:httpx:HTTP Request: POST https://api.openai.com/v1/chat/completions \"HTTP/1.1 200 OK\"\n",
      "HTTP Request: POST https://api.openai.com/v1/chat/completions \"HTTP/1.1 200 OK\"\n",
      "HTTP Request: POST https://api.openai.com/v1/chat/completions \"HTTP/1.1 200 OK\"\n",
      "HTTP Request: POST https://api.openai.com/v1/chat/completions \"HTTP/1.1 200 OK\"\n",
      "HTTP Request: POST https://api.openai.com/v1/chat/completions \"HTTP/1.1 200 OK\"\n",
      "HTTP Request: POST https://api.openai.com/v1/chat/completions \"HTTP/1.1 200 OK\"\n",
      "HTTP Request: POST https://api.openai.com/v1/chat/completions \"HTTP/1.1 200 OK\"\n"
     ]
    },
    {
     "data": {
      "text/markdown": [
       "<b>I'm sorry, but there was an error in retrieving the information. Please try again later.</b>"
      ],
      "text/plain": [
       "<IPython.core.display.Markdown object>"
      ]
     },
     "metadata": {},
     "output_type": "display_data"
    }
   ],
   "source": [
    "response = query_engine.query(\"List 20 schools with largest number of Native American students\")\n",
    "display(Markdown(f\"<b>{response}</b>\"))"
   ]
  },
  {
   "cell_type": "code",
   "execution_count": null,
   "metadata": {},
   "outputs": [],
   "source": []
  }
 ],
 "metadata": {
  "kernelspec": {
   "display_name": "venv",
   "language": "python",
   "name": "python3"
  },
  "language_info": {
   "codemirror_mode": {
    "name": "ipython",
    "version": 3
   },
   "file_extension": ".py",
   "mimetype": "text/x-python",
   "name": "python",
   "nbconvert_exporter": "python",
   "pygments_lexer": "ipython3",
   "version": "3.10.13"
  },
  "orig_nbformat": 4
 },
 "nbformat": 4,
 "nbformat_minor": 2
}
